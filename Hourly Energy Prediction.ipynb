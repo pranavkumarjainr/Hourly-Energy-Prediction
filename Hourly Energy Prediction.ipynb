{
  "nbformat": 4,
  "nbformat_minor": 0,
  "metadata": {
    "colab": {
      "provenance": []
    },
    "kernelspec": {
      "name": "python3",
      "display_name": "Python 3"
    },
    "language_info": {
      "name": "python"
    },
    "accelerator": "GPU",
    "gpuClass": "standard"
  },
  "cells": [
    {
      "cell_type": "markdown",
      "source": [
        "#Predicting Electricity Prices"
      ],
      "metadata": {
        "id": "pQ0yXVbHKLc5"
      }
    },
    {
      "cell_type": "markdown",
      "source": [
        "### Data Preprocessing"
      ],
      "metadata": {
        "id": "ceXYvhXhKcNr"
      }
    },
    {
      "cell_type": "code",
      "execution_count": 77,
      "metadata": {
        "id": "TAOkCOh0D-of"
      },
      "outputs": [],
      "source": [
        "import pandas as pd\n",
        "import numpy as np\n",
        "import matplotlib.pyplot as plt\n",
        "import seaborn as sns\n",
        "import warnings\n",
        "\n",
        "warnings.filterwarnings('ignore')"
      ]
    },
    {
      "cell_type": "code",
      "source": [
        "data = pd.read_csv('energy_dataset.csv', parse_dates = ['time'])\n",
        "data.head()"
      ],
      "metadata": {
        "colab": {
          "base_uri": "https://localhost:8080/",
          "height": 456
        },
        "id": "nubloXWcEcwD",
        "outputId": "60560f84-ad35-4926-f562-a6a44924c1ee"
      },
      "execution_count": 78,
      "outputs": [
        {
          "output_type": "execute_result",
          "data": {
            "text/plain": [
              "                        time  generation biomass  \\\n",
              "0  2015-01-01 00:00:00+01:00               447.0   \n",
              "1  2015-01-01 01:00:00+01:00               449.0   \n",
              "2  2015-01-01 02:00:00+01:00               448.0   \n",
              "3  2015-01-01 03:00:00+01:00               438.0   \n",
              "4  2015-01-01 04:00:00+01:00               428.0   \n",
              "\n",
              "   generation fossil brown coal/lignite  generation fossil coal-derived gas  \\\n",
              "0                                 329.0                                 0.0   \n",
              "1                                 328.0                                 0.0   \n",
              "2                                 323.0                                 0.0   \n",
              "3                                 254.0                                 0.0   \n",
              "4                                 187.0                                 0.0   \n",
              "\n",
              "   generation fossil gas  generation fossil hard coal  generation fossil oil  \\\n",
              "0                 4844.0                       4821.0                  162.0   \n",
              "1                 5196.0                       4755.0                  158.0   \n",
              "2                 4857.0                       4581.0                  157.0   \n",
              "3                 4314.0                       4131.0                  160.0   \n",
              "4                 4130.0                       3840.0                  156.0   \n",
              "\n",
              "   generation fossil oil shale  generation fossil peat  generation geothermal  \\\n",
              "0                          0.0                     0.0                    0.0   \n",
              "1                          0.0                     0.0                    0.0   \n",
              "2                          0.0                     0.0                    0.0   \n",
              "3                          0.0                     0.0                    0.0   \n",
              "4                          0.0                     0.0                    0.0   \n",
              "\n",
              "   ...  generation waste  generation wind offshore  generation wind onshore  \\\n",
              "0  ...             196.0                       0.0                   6378.0   \n",
              "1  ...             195.0                       0.0                   5890.0   \n",
              "2  ...             196.0                       0.0                   5461.0   \n",
              "3  ...             191.0                       0.0                   5238.0   \n",
              "4  ...             189.0                       0.0                   4935.0   \n",
              "\n",
              "   forecast solar day ahead  forecast wind offshore eday ahead  \\\n",
              "0                      17.0                                NaN   \n",
              "1                      16.0                                NaN   \n",
              "2                       8.0                                NaN   \n",
              "3                       2.0                                NaN   \n",
              "4                       9.0                                NaN   \n",
              "\n",
              "   forecast wind onshore day ahead  total load forecast  total load actual  \\\n",
              "0                           6436.0              26118.0            25385.0   \n",
              "1                           5856.0              24934.0            24382.0   \n",
              "2                           5454.0              23515.0            22734.0   \n",
              "3                           5151.0              22642.0            21286.0   \n",
              "4                           4861.0              21785.0            20264.0   \n",
              "\n",
              "   price day ahead  price actual  \n",
              "0            50.10         65.41  \n",
              "1            48.10         64.92  \n",
              "2            47.33         64.48  \n",
              "3            42.27         59.32  \n",
              "4            38.41         56.04  \n",
              "\n",
              "[5 rows x 29 columns]"
            ],
            "text/html": [
              "\n",
              "  <div id=\"df-0f4b6abd-406e-42e3-9729-7e78b794445b\">\n",
              "    <div class=\"colab-df-container\">\n",
              "      <div>\n",
              "<style scoped>\n",
              "    .dataframe tbody tr th:only-of-type {\n",
              "        vertical-align: middle;\n",
              "    }\n",
              "\n",
              "    .dataframe tbody tr th {\n",
              "        vertical-align: top;\n",
              "    }\n",
              "\n",
              "    .dataframe thead th {\n",
              "        text-align: right;\n",
              "    }\n",
              "</style>\n",
              "<table border=\"1\" class=\"dataframe\">\n",
              "  <thead>\n",
              "    <tr style=\"text-align: right;\">\n",
              "      <th></th>\n",
              "      <th>time</th>\n",
              "      <th>generation biomass</th>\n",
              "      <th>generation fossil brown coal/lignite</th>\n",
              "      <th>generation fossil coal-derived gas</th>\n",
              "      <th>generation fossil gas</th>\n",
              "      <th>generation fossil hard coal</th>\n",
              "      <th>generation fossil oil</th>\n",
              "      <th>generation fossil oil shale</th>\n",
              "      <th>generation fossil peat</th>\n",
              "      <th>generation geothermal</th>\n",
              "      <th>...</th>\n",
              "      <th>generation waste</th>\n",
              "      <th>generation wind offshore</th>\n",
              "      <th>generation wind onshore</th>\n",
              "      <th>forecast solar day ahead</th>\n",
              "      <th>forecast wind offshore eday ahead</th>\n",
              "      <th>forecast wind onshore day ahead</th>\n",
              "      <th>total load forecast</th>\n",
              "      <th>total load actual</th>\n",
              "      <th>price day ahead</th>\n",
              "      <th>price actual</th>\n",
              "    </tr>\n",
              "  </thead>\n",
              "  <tbody>\n",
              "    <tr>\n",
              "      <th>0</th>\n",
              "      <td>2015-01-01 00:00:00+01:00</td>\n",
              "      <td>447.0</td>\n",
              "      <td>329.0</td>\n",
              "      <td>0.0</td>\n",
              "      <td>4844.0</td>\n",
              "      <td>4821.0</td>\n",
              "      <td>162.0</td>\n",
              "      <td>0.0</td>\n",
              "      <td>0.0</td>\n",
              "      <td>0.0</td>\n",
              "      <td>...</td>\n",
              "      <td>196.0</td>\n",
              "      <td>0.0</td>\n",
              "      <td>6378.0</td>\n",
              "      <td>17.0</td>\n",
              "      <td>NaN</td>\n",
              "      <td>6436.0</td>\n",
              "      <td>26118.0</td>\n",
              "      <td>25385.0</td>\n",
              "      <td>50.10</td>\n",
              "      <td>65.41</td>\n",
              "    </tr>\n",
              "    <tr>\n",
              "      <th>1</th>\n",
              "      <td>2015-01-01 01:00:00+01:00</td>\n",
              "      <td>449.0</td>\n",
              "      <td>328.0</td>\n",
              "      <td>0.0</td>\n",
              "      <td>5196.0</td>\n",
              "      <td>4755.0</td>\n",
              "      <td>158.0</td>\n",
              "      <td>0.0</td>\n",
              "      <td>0.0</td>\n",
              "      <td>0.0</td>\n",
              "      <td>...</td>\n",
              "      <td>195.0</td>\n",
              "      <td>0.0</td>\n",
              "      <td>5890.0</td>\n",
              "      <td>16.0</td>\n",
              "      <td>NaN</td>\n",
              "      <td>5856.0</td>\n",
              "      <td>24934.0</td>\n",
              "      <td>24382.0</td>\n",
              "      <td>48.10</td>\n",
              "      <td>64.92</td>\n",
              "    </tr>\n",
              "    <tr>\n",
              "      <th>2</th>\n",
              "      <td>2015-01-01 02:00:00+01:00</td>\n",
              "      <td>448.0</td>\n",
              "      <td>323.0</td>\n",
              "      <td>0.0</td>\n",
              "      <td>4857.0</td>\n",
              "      <td>4581.0</td>\n",
              "      <td>157.0</td>\n",
              "      <td>0.0</td>\n",
              "      <td>0.0</td>\n",
              "      <td>0.0</td>\n",
              "      <td>...</td>\n",
              "      <td>196.0</td>\n",
              "      <td>0.0</td>\n",
              "      <td>5461.0</td>\n",
              "      <td>8.0</td>\n",
              "      <td>NaN</td>\n",
              "      <td>5454.0</td>\n",
              "      <td>23515.0</td>\n",
              "      <td>22734.0</td>\n",
              "      <td>47.33</td>\n",
              "      <td>64.48</td>\n",
              "    </tr>\n",
              "    <tr>\n",
              "      <th>3</th>\n",
              "      <td>2015-01-01 03:00:00+01:00</td>\n",
              "      <td>438.0</td>\n",
              "      <td>254.0</td>\n",
              "      <td>0.0</td>\n",
              "      <td>4314.0</td>\n",
              "      <td>4131.0</td>\n",
              "      <td>160.0</td>\n",
              "      <td>0.0</td>\n",
              "      <td>0.0</td>\n",
              "      <td>0.0</td>\n",
              "      <td>...</td>\n",
              "      <td>191.0</td>\n",
              "      <td>0.0</td>\n",
              "      <td>5238.0</td>\n",
              "      <td>2.0</td>\n",
              "      <td>NaN</td>\n",
              "      <td>5151.0</td>\n",
              "      <td>22642.0</td>\n",
              "      <td>21286.0</td>\n",
              "      <td>42.27</td>\n",
              "      <td>59.32</td>\n",
              "    </tr>\n",
              "    <tr>\n",
              "      <th>4</th>\n",
              "      <td>2015-01-01 04:00:00+01:00</td>\n",
              "      <td>428.0</td>\n",
              "      <td>187.0</td>\n",
              "      <td>0.0</td>\n",
              "      <td>4130.0</td>\n",
              "      <td>3840.0</td>\n",
              "      <td>156.0</td>\n",
              "      <td>0.0</td>\n",
              "      <td>0.0</td>\n",
              "      <td>0.0</td>\n",
              "      <td>...</td>\n",
              "      <td>189.0</td>\n",
              "      <td>0.0</td>\n",
              "      <td>4935.0</td>\n",
              "      <td>9.0</td>\n",
              "      <td>NaN</td>\n",
              "      <td>4861.0</td>\n",
              "      <td>21785.0</td>\n",
              "      <td>20264.0</td>\n",
              "      <td>38.41</td>\n",
              "      <td>56.04</td>\n",
              "    </tr>\n",
              "  </tbody>\n",
              "</table>\n",
              "<p>5 rows × 29 columns</p>\n",
              "</div>\n",
              "      <button class=\"colab-df-convert\" onclick=\"convertToInteractive('df-0f4b6abd-406e-42e3-9729-7e78b794445b')\"\n",
              "              title=\"Convert this dataframe to an interactive table.\"\n",
              "              style=\"display:none;\">\n",
              "        \n",
              "  <svg xmlns=\"http://www.w3.org/2000/svg\" height=\"24px\"viewBox=\"0 0 24 24\"\n",
              "       width=\"24px\">\n",
              "    <path d=\"M0 0h24v24H0V0z\" fill=\"none\"/>\n",
              "    <path d=\"M18.56 5.44l.94 2.06.94-2.06 2.06-.94-2.06-.94-.94-2.06-.94 2.06-2.06.94zm-11 1L8.5 8.5l.94-2.06 2.06-.94-2.06-.94L8.5 2.5l-.94 2.06-2.06.94zm10 10l.94 2.06.94-2.06 2.06-.94-2.06-.94-.94-2.06-.94 2.06-2.06.94z\"/><path d=\"M17.41 7.96l-1.37-1.37c-.4-.4-.92-.59-1.43-.59-.52 0-1.04.2-1.43.59L10.3 9.45l-7.72 7.72c-.78.78-.78 2.05 0 2.83L4 21.41c.39.39.9.59 1.41.59.51 0 1.02-.2 1.41-.59l7.78-7.78 2.81-2.81c.8-.78.8-2.07 0-2.86zM5.41 20L4 18.59l7.72-7.72 1.47 1.35L5.41 20z\"/>\n",
              "  </svg>\n",
              "      </button>\n",
              "      \n",
              "  <style>\n",
              "    .colab-df-container {\n",
              "      display:flex;\n",
              "      flex-wrap:wrap;\n",
              "      gap: 12px;\n",
              "    }\n",
              "\n",
              "    .colab-df-convert {\n",
              "      background-color: #E8F0FE;\n",
              "      border: none;\n",
              "      border-radius: 50%;\n",
              "      cursor: pointer;\n",
              "      display: none;\n",
              "      fill: #1967D2;\n",
              "      height: 32px;\n",
              "      padding: 0 0 0 0;\n",
              "      width: 32px;\n",
              "    }\n",
              "\n",
              "    .colab-df-convert:hover {\n",
              "      background-color: #E2EBFA;\n",
              "      box-shadow: 0px 1px 2px rgba(60, 64, 67, 0.3), 0px 1px 3px 1px rgba(60, 64, 67, 0.15);\n",
              "      fill: #174EA6;\n",
              "    }\n",
              "\n",
              "    [theme=dark] .colab-df-convert {\n",
              "      background-color: #3B4455;\n",
              "      fill: #D2E3FC;\n",
              "    }\n",
              "\n",
              "    [theme=dark] .colab-df-convert:hover {\n",
              "      background-color: #434B5C;\n",
              "      box-shadow: 0px 1px 3px 1px rgba(0, 0, 0, 0.15);\n",
              "      filter: drop-shadow(0px 1px 2px rgba(0, 0, 0, 0.3));\n",
              "      fill: #FFFFFF;\n",
              "    }\n",
              "  </style>\n",
              "\n",
              "      <script>\n",
              "        const buttonEl =\n",
              "          document.querySelector('#df-0f4b6abd-406e-42e3-9729-7e78b794445b button.colab-df-convert');\n",
              "        buttonEl.style.display =\n",
              "          google.colab.kernel.accessAllowed ? 'block' : 'none';\n",
              "\n",
              "        async function convertToInteractive(key) {\n",
              "          const element = document.querySelector('#df-0f4b6abd-406e-42e3-9729-7e78b794445b');\n",
              "          const dataTable =\n",
              "            await google.colab.kernel.invokeFunction('convertToInteractive',\n",
              "                                                     [key], {});\n",
              "          if (!dataTable) return;\n",
              "\n",
              "          const docLinkHtml = 'Like what you see? Visit the ' +\n",
              "            '<a target=\"_blank\" href=https://colab.research.google.com/notebooks/data_table.ipynb>data table notebook</a>'\n",
              "            + ' to learn more about interactive tables.';\n",
              "          element.innerHTML = '';\n",
              "          dataTable['output_type'] = 'display_data';\n",
              "          await google.colab.output.renderOutput(dataTable, element);\n",
              "          const docLink = document.createElement('div');\n",
              "          docLink.innerHTML = docLinkHtml;\n",
              "          element.appendChild(docLink);\n",
              "        }\n",
              "      </script>\n",
              "    </div>\n",
              "  </div>\n",
              "  "
            ]
          },
          "metadata": {},
          "execution_count": 78
        }
      ]
    },
    {
      "cell_type": "code",
      "source": [
        "data.time = pd.to_datetime(data.time, utc = True, infer_datetime_format= True)\n",
        "data = data.set_index('time')\n",
        "data.head()"
      ],
      "metadata": {
        "colab": {
          "base_uri": "https://localhost:8080/",
          "height": 487
        },
        "id": "FEcPsrJREhez",
        "outputId": "d314ddce-97b3-4c82-da5e-ec33990afbc3"
      },
      "execution_count": 79,
      "outputs": [
        {
          "output_type": "execute_result",
          "data": {
            "text/plain": [
              "                           generation biomass  \\\n",
              "time                                            \n",
              "2014-12-31 23:00:00+00:00               447.0   \n",
              "2015-01-01 00:00:00+00:00               449.0   \n",
              "2015-01-01 01:00:00+00:00               448.0   \n",
              "2015-01-01 02:00:00+00:00               438.0   \n",
              "2015-01-01 03:00:00+00:00               428.0   \n",
              "\n",
              "                           generation fossil brown coal/lignite  \\\n",
              "time                                                              \n",
              "2014-12-31 23:00:00+00:00                                 329.0   \n",
              "2015-01-01 00:00:00+00:00                                 328.0   \n",
              "2015-01-01 01:00:00+00:00                                 323.0   \n",
              "2015-01-01 02:00:00+00:00                                 254.0   \n",
              "2015-01-01 03:00:00+00:00                                 187.0   \n",
              "\n",
              "                           generation fossil coal-derived gas  \\\n",
              "time                                                            \n",
              "2014-12-31 23:00:00+00:00                                 0.0   \n",
              "2015-01-01 00:00:00+00:00                                 0.0   \n",
              "2015-01-01 01:00:00+00:00                                 0.0   \n",
              "2015-01-01 02:00:00+00:00                                 0.0   \n",
              "2015-01-01 03:00:00+00:00                                 0.0   \n",
              "\n",
              "                           generation fossil gas  generation fossil hard coal  \\\n",
              "time                                                                            \n",
              "2014-12-31 23:00:00+00:00                 4844.0                       4821.0   \n",
              "2015-01-01 00:00:00+00:00                 5196.0                       4755.0   \n",
              "2015-01-01 01:00:00+00:00                 4857.0                       4581.0   \n",
              "2015-01-01 02:00:00+00:00                 4314.0                       4131.0   \n",
              "2015-01-01 03:00:00+00:00                 4130.0                       3840.0   \n",
              "\n",
              "                           generation fossil oil  generation fossil oil shale  \\\n",
              "time                                                                            \n",
              "2014-12-31 23:00:00+00:00                  162.0                          0.0   \n",
              "2015-01-01 00:00:00+00:00                  158.0                          0.0   \n",
              "2015-01-01 01:00:00+00:00                  157.0                          0.0   \n",
              "2015-01-01 02:00:00+00:00                  160.0                          0.0   \n",
              "2015-01-01 03:00:00+00:00                  156.0                          0.0   \n",
              "\n",
              "                           generation fossil peat  generation geothermal  \\\n",
              "time                                                                       \n",
              "2014-12-31 23:00:00+00:00                     0.0                    0.0   \n",
              "2015-01-01 00:00:00+00:00                     0.0                    0.0   \n",
              "2015-01-01 01:00:00+00:00                     0.0                    0.0   \n",
              "2015-01-01 02:00:00+00:00                     0.0                    0.0   \n",
              "2015-01-01 03:00:00+00:00                     0.0                    0.0   \n",
              "\n",
              "                           generation hydro pumped storage aggregated  ...  \\\n",
              "time                                                                   ...   \n",
              "2014-12-31 23:00:00+00:00                                         NaN  ...   \n",
              "2015-01-01 00:00:00+00:00                                         NaN  ...   \n",
              "2015-01-01 01:00:00+00:00                                         NaN  ...   \n",
              "2015-01-01 02:00:00+00:00                                         NaN  ...   \n",
              "2015-01-01 03:00:00+00:00                                         NaN  ...   \n",
              "\n",
              "                           generation waste  generation wind offshore  \\\n",
              "time                                                                    \n",
              "2014-12-31 23:00:00+00:00             196.0                       0.0   \n",
              "2015-01-01 00:00:00+00:00             195.0                       0.0   \n",
              "2015-01-01 01:00:00+00:00             196.0                       0.0   \n",
              "2015-01-01 02:00:00+00:00             191.0                       0.0   \n",
              "2015-01-01 03:00:00+00:00             189.0                       0.0   \n",
              "\n",
              "                           generation wind onshore  forecast solar day ahead  \\\n",
              "time                                                                           \n",
              "2014-12-31 23:00:00+00:00                   6378.0                      17.0   \n",
              "2015-01-01 00:00:00+00:00                   5890.0                      16.0   \n",
              "2015-01-01 01:00:00+00:00                   5461.0                       8.0   \n",
              "2015-01-01 02:00:00+00:00                   5238.0                       2.0   \n",
              "2015-01-01 03:00:00+00:00                   4935.0                       9.0   \n",
              "\n",
              "                           forecast wind offshore eday ahead  \\\n",
              "time                                                           \n",
              "2014-12-31 23:00:00+00:00                                NaN   \n",
              "2015-01-01 00:00:00+00:00                                NaN   \n",
              "2015-01-01 01:00:00+00:00                                NaN   \n",
              "2015-01-01 02:00:00+00:00                                NaN   \n",
              "2015-01-01 03:00:00+00:00                                NaN   \n",
              "\n",
              "                           forecast wind onshore day ahead  \\\n",
              "time                                                         \n",
              "2014-12-31 23:00:00+00:00                           6436.0   \n",
              "2015-01-01 00:00:00+00:00                           5856.0   \n",
              "2015-01-01 01:00:00+00:00                           5454.0   \n",
              "2015-01-01 02:00:00+00:00                           5151.0   \n",
              "2015-01-01 03:00:00+00:00                           4861.0   \n",
              "\n",
              "                           total load forecast  total load actual  \\\n",
              "time                                                                \n",
              "2014-12-31 23:00:00+00:00              26118.0            25385.0   \n",
              "2015-01-01 00:00:00+00:00              24934.0            24382.0   \n",
              "2015-01-01 01:00:00+00:00              23515.0            22734.0   \n",
              "2015-01-01 02:00:00+00:00              22642.0            21286.0   \n",
              "2015-01-01 03:00:00+00:00              21785.0            20264.0   \n",
              "\n",
              "                           price day ahead  price actual  \n",
              "time                                                      \n",
              "2014-12-31 23:00:00+00:00            50.10         65.41  \n",
              "2015-01-01 00:00:00+00:00            48.10         64.92  \n",
              "2015-01-01 01:00:00+00:00            47.33         64.48  \n",
              "2015-01-01 02:00:00+00:00            42.27         59.32  \n",
              "2015-01-01 03:00:00+00:00            38.41         56.04  \n",
              "\n",
              "[5 rows x 28 columns]"
            ],
            "text/html": [
              "\n",
              "  <div id=\"df-2d920fa0-fcaa-4dba-9d52-4e5c22af730b\">\n",
              "    <div class=\"colab-df-container\">\n",
              "      <div>\n",
              "<style scoped>\n",
              "    .dataframe tbody tr th:only-of-type {\n",
              "        vertical-align: middle;\n",
              "    }\n",
              "\n",
              "    .dataframe tbody tr th {\n",
              "        vertical-align: top;\n",
              "    }\n",
              "\n",
              "    .dataframe thead th {\n",
              "        text-align: right;\n",
              "    }\n",
              "</style>\n",
              "<table border=\"1\" class=\"dataframe\">\n",
              "  <thead>\n",
              "    <tr style=\"text-align: right;\">\n",
              "      <th></th>\n",
              "      <th>generation biomass</th>\n",
              "      <th>generation fossil brown coal/lignite</th>\n",
              "      <th>generation fossil coal-derived gas</th>\n",
              "      <th>generation fossil gas</th>\n",
              "      <th>generation fossil hard coal</th>\n",
              "      <th>generation fossil oil</th>\n",
              "      <th>generation fossil oil shale</th>\n",
              "      <th>generation fossil peat</th>\n",
              "      <th>generation geothermal</th>\n",
              "      <th>generation hydro pumped storage aggregated</th>\n",
              "      <th>...</th>\n",
              "      <th>generation waste</th>\n",
              "      <th>generation wind offshore</th>\n",
              "      <th>generation wind onshore</th>\n",
              "      <th>forecast solar day ahead</th>\n",
              "      <th>forecast wind offshore eday ahead</th>\n",
              "      <th>forecast wind onshore day ahead</th>\n",
              "      <th>total load forecast</th>\n",
              "      <th>total load actual</th>\n",
              "      <th>price day ahead</th>\n",
              "      <th>price actual</th>\n",
              "    </tr>\n",
              "    <tr>\n",
              "      <th>time</th>\n",
              "      <th></th>\n",
              "      <th></th>\n",
              "      <th></th>\n",
              "      <th></th>\n",
              "      <th></th>\n",
              "      <th></th>\n",
              "      <th></th>\n",
              "      <th></th>\n",
              "      <th></th>\n",
              "      <th></th>\n",
              "      <th></th>\n",
              "      <th></th>\n",
              "      <th></th>\n",
              "      <th></th>\n",
              "      <th></th>\n",
              "      <th></th>\n",
              "      <th></th>\n",
              "      <th></th>\n",
              "      <th></th>\n",
              "      <th></th>\n",
              "      <th></th>\n",
              "    </tr>\n",
              "  </thead>\n",
              "  <tbody>\n",
              "    <tr>\n",
              "      <th>2014-12-31 23:00:00+00:00</th>\n",
              "      <td>447.0</td>\n",
              "      <td>329.0</td>\n",
              "      <td>0.0</td>\n",
              "      <td>4844.0</td>\n",
              "      <td>4821.0</td>\n",
              "      <td>162.0</td>\n",
              "      <td>0.0</td>\n",
              "      <td>0.0</td>\n",
              "      <td>0.0</td>\n",
              "      <td>NaN</td>\n",
              "      <td>...</td>\n",
              "      <td>196.0</td>\n",
              "      <td>0.0</td>\n",
              "      <td>6378.0</td>\n",
              "      <td>17.0</td>\n",
              "      <td>NaN</td>\n",
              "      <td>6436.0</td>\n",
              "      <td>26118.0</td>\n",
              "      <td>25385.0</td>\n",
              "      <td>50.10</td>\n",
              "      <td>65.41</td>\n",
              "    </tr>\n",
              "    <tr>\n",
              "      <th>2015-01-01 00:00:00+00:00</th>\n",
              "      <td>449.0</td>\n",
              "      <td>328.0</td>\n",
              "      <td>0.0</td>\n",
              "      <td>5196.0</td>\n",
              "      <td>4755.0</td>\n",
              "      <td>158.0</td>\n",
              "      <td>0.0</td>\n",
              "      <td>0.0</td>\n",
              "      <td>0.0</td>\n",
              "      <td>NaN</td>\n",
              "      <td>...</td>\n",
              "      <td>195.0</td>\n",
              "      <td>0.0</td>\n",
              "      <td>5890.0</td>\n",
              "      <td>16.0</td>\n",
              "      <td>NaN</td>\n",
              "      <td>5856.0</td>\n",
              "      <td>24934.0</td>\n",
              "      <td>24382.0</td>\n",
              "      <td>48.10</td>\n",
              "      <td>64.92</td>\n",
              "    </tr>\n",
              "    <tr>\n",
              "      <th>2015-01-01 01:00:00+00:00</th>\n",
              "      <td>448.0</td>\n",
              "      <td>323.0</td>\n",
              "      <td>0.0</td>\n",
              "      <td>4857.0</td>\n",
              "      <td>4581.0</td>\n",
              "      <td>157.0</td>\n",
              "      <td>0.0</td>\n",
              "      <td>0.0</td>\n",
              "      <td>0.0</td>\n",
              "      <td>NaN</td>\n",
              "      <td>...</td>\n",
              "      <td>196.0</td>\n",
              "      <td>0.0</td>\n",
              "      <td>5461.0</td>\n",
              "      <td>8.0</td>\n",
              "      <td>NaN</td>\n",
              "      <td>5454.0</td>\n",
              "      <td>23515.0</td>\n",
              "      <td>22734.0</td>\n",
              "      <td>47.33</td>\n",
              "      <td>64.48</td>\n",
              "    </tr>\n",
              "    <tr>\n",
              "      <th>2015-01-01 02:00:00+00:00</th>\n",
              "      <td>438.0</td>\n",
              "      <td>254.0</td>\n",
              "      <td>0.0</td>\n",
              "      <td>4314.0</td>\n",
              "      <td>4131.0</td>\n",
              "      <td>160.0</td>\n",
              "      <td>0.0</td>\n",
              "      <td>0.0</td>\n",
              "      <td>0.0</td>\n",
              "      <td>NaN</td>\n",
              "      <td>...</td>\n",
              "      <td>191.0</td>\n",
              "      <td>0.0</td>\n",
              "      <td>5238.0</td>\n",
              "      <td>2.0</td>\n",
              "      <td>NaN</td>\n",
              "      <td>5151.0</td>\n",
              "      <td>22642.0</td>\n",
              "      <td>21286.0</td>\n",
              "      <td>42.27</td>\n",
              "      <td>59.32</td>\n",
              "    </tr>\n",
              "    <tr>\n",
              "      <th>2015-01-01 03:00:00+00:00</th>\n",
              "      <td>428.0</td>\n",
              "      <td>187.0</td>\n",
              "      <td>0.0</td>\n",
              "      <td>4130.0</td>\n",
              "      <td>3840.0</td>\n",
              "      <td>156.0</td>\n",
              "      <td>0.0</td>\n",
              "      <td>0.0</td>\n",
              "      <td>0.0</td>\n",
              "      <td>NaN</td>\n",
              "      <td>...</td>\n",
              "      <td>189.0</td>\n",
              "      <td>0.0</td>\n",
              "      <td>4935.0</td>\n",
              "      <td>9.0</td>\n",
              "      <td>NaN</td>\n",
              "      <td>4861.0</td>\n",
              "      <td>21785.0</td>\n",
              "      <td>20264.0</td>\n",
              "      <td>38.41</td>\n",
              "      <td>56.04</td>\n",
              "    </tr>\n",
              "  </tbody>\n",
              "</table>\n",
              "<p>5 rows × 28 columns</p>\n",
              "</div>\n",
              "      <button class=\"colab-df-convert\" onclick=\"convertToInteractive('df-2d920fa0-fcaa-4dba-9d52-4e5c22af730b')\"\n",
              "              title=\"Convert this dataframe to an interactive table.\"\n",
              "              style=\"display:none;\">\n",
              "        \n",
              "  <svg xmlns=\"http://www.w3.org/2000/svg\" height=\"24px\"viewBox=\"0 0 24 24\"\n",
              "       width=\"24px\">\n",
              "    <path d=\"M0 0h24v24H0V0z\" fill=\"none\"/>\n",
              "    <path d=\"M18.56 5.44l.94 2.06.94-2.06 2.06-.94-2.06-.94-.94-2.06-.94 2.06-2.06.94zm-11 1L8.5 8.5l.94-2.06 2.06-.94-2.06-.94L8.5 2.5l-.94 2.06-2.06.94zm10 10l.94 2.06.94-2.06 2.06-.94-2.06-.94-.94-2.06-.94 2.06-2.06.94z\"/><path d=\"M17.41 7.96l-1.37-1.37c-.4-.4-.92-.59-1.43-.59-.52 0-1.04.2-1.43.59L10.3 9.45l-7.72 7.72c-.78.78-.78 2.05 0 2.83L4 21.41c.39.39.9.59 1.41.59.51 0 1.02-.2 1.41-.59l7.78-7.78 2.81-2.81c.8-.78.8-2.07 0-2.86zM5.41 20L4 18.59l7.72-7.72 1.47 1.35L5.41 20z\"/>\n",
              "  </svg>\n",
              "      </button>\n",
              "      \n",
              "  <style>\n",
              "    .colab-df-container {\n",
              "      display:flex;\n",
              "      flex-wrap:wrap;\n",
              "      gap: 12px;\n",
              "    }\n",
              "\n",
              "    .colab-df-convert {\n",
              "      background-color: #E8F0FE;\n",
              "      border: none;\n",
              "      border-radius: 50%;\n",
              "      cursor: pointer;\n",
              "      display: none;\n",
              "      fill: #1967D2;\n",
              "      height: 32px;\n",
              "      padding: 0 0 0 0;\n",
              "      width: 32px;\n",
              "    }\n",
              "\n",
              "    .colab-df-convert:hover {\n",
              "      background-color: #E2EBFA;\n",
              "      box-shadow: 0px 1px 2px rgba(60, 64, 67, 0.3), 0px 1px 3px 1px rgba(60, 64, 67, 0.15);\n",
              "      fill: #174EA6;\n",
              "    }\n",
              "\n",
              "    [theme=dark] .colab-df-convert {\n",
              "      background-color: #3B4455;\n",
              "      fill: #D2E3FC;\n",
              "    }\n",
              "\n",
              "    [theme=dark] .colab-df-convert:hover {\n",
              "      background-color: #434B5C;\n",
              "      box-shadow: 0px 1px 3px 1px rgba(0, 0, 0, 0.15);\n",
              "      filter: drop-shadow(0px 1px 2px rgba(0, 0, 0, 0.3));\n",
              "      fill: #FFFFFF;\n",
              "    }\n",
              "  </style>\n",
              "\n",
              "      <script>\n",
              "        const buttonEl =\n",
              "          document.querySelector('#df-2d920fa0-fcaa-4dba-9d52-4e5c22af730b button.colab-df-convert');\n",
              "        buttonEl.style.display =\n",
              "          google.colab.kernel.accessAllowed ? 'block' : 'none';\n",
              "\n",
              "        async function convertToInteractive(key) {\n",
              "          const element = document.querySelector('#df-2d920fa0-fcaa-4dba-9d52-4e5c22af730b');\n",
              "          const dataTable =\n",
              "            await google.colab.kernel.invokeFunction('convertToInteractive',\n",
              "                                                     [key], {});\n",
              "          if (!dataTable) return;\n",
              "\n",
              "          const docLinkHtml = 'Like what you see? Visit the ' +\n",
              "            '<a target=\"_blank\" href=https://colab.research.google.com/notebooks/data_table.ipynb>data table notebook</a>'\n",
              "            + ' to learn more about interactive tables.';\n",
              "          element.innerHTML = '';\n",
              "          dataTable['output_type'] = 'display_data';\n",
              "          await google.colab.output.renderOutput(dataTable, element);\n",
              "          const docLink = document.createElement('div');\n",
              "          docLink.innerHTML = docLinkHtml;\n",
              "          element.appendChild(docLink);\n",
              "        }\n",
              "      </script>\n",
              "    </div>\n",
              "  </div>\n",
              "  "
            ]
          },
          "metadata": {},
          "execution_count": 79
        }
      ]
    },
    {
      "cell_type": "code",
      "source": [
        "data.isnull().sum()"
      ],
      "metadata": {
        "colab": {
          "base_uri": "https://localhost:8080/"
        },
        "id": "7ma1fHFLEl0K",
        "outputId": "ede6cb60-7588-4681-894a-49bd821a621c"
      },
      "execution_count": 80,
      "outputs": [
        {
          "output_type": "execute_result",
          "data": {
            "text/plain": [
              "generation biomass                               15\n",
              "generation fossil brown coal/lignite             15\n",
              "generation fossil coal-derived gas               15\n",
              "generation fossil gas                            15\n",
              "generation fossil hard coal                      15\n",
              "generation fossil oil                            15\n",
              "generation fossil oil shale                      15\n",
              "generation fossil peat                           15\n",
              "generation geothermal                            15\n",
              "generation hydro pumped storage aggregated     5862\n",
              "generation hydro pumped storage consumption      15\n",
              "generation hydro run-of-river and poundage       15\n",
              "generation hydro water reservoir                 15\n",
              "generation marine                                15\n",
              "generation nuclear                               15\n",
              "generation other                                 15\n",
              "generation other renewable                       15\n",
              "generation solar                                 15\n",
              "generation waste                                 15\n",
              "generation wind offshore                         15\n",
              "generation wind onshore                          15\n",
              "forecast solar day ahead                          1\n",
              "forecast wind offshore eday ahead              5862\n",
              "forecast wind onshore day ahead                   1\n",
              "total load forecast                               1\n",
              "total load actual                                25\n",
              "price day ahead                                   1\n",
              "price actual                                      1\n",
              "dtype: int64"
            ]
          },
          "metadata": {},
          "execution_count": 80
        }
      ]
    },
    {
      "cell_type": "code",
      "source": [
        "# Count number of zeros in all columns of Dataframe\n",
        "for column_name in data.columns:\n",
        "    column = data[column_name]\n",
        "    # Get the count of Zeros in column \n",
        "    count = (column == 0).sum()\n",
        "    print(f\"{column_name:{50}} : {count}\")"
      ],
      "metadata": {
        "colab": {
          "base_uri": "https://localhost:8080/"
        },
        "id": "_FgW05SxEpC_",
        "outputId": "0096eba2-6237-46cb-8bf0-ce1a3f034e78"
      },
      "execution_count": 81,
      "outputs": [
        {
          "output_type": "stream",
          "name": "stdout",
          "text": [
            "generation biomass                                 : 0\n",
            "generation fossil brown coal/lignite               : 1852\n",
            "generation fossil coal-derived gas                 : 5847\n",
            "generation fossil gas                              : 0\n",
            "generation fossil hard coal                        : 0\n",
            "generation fossil oil                              : 0\n",
            "generation fossil oil shale                        : 5847\n",
            "generation fossil peat                             : 5847\n",
            "generation geothermal                              : 5847\n",
            "generation hydro pumped storage aggregated         : 0\n",
            "generation hydro pumped storage consumption        : 1921\n",
            "generation hydro run-of-river and poundage         : 0\n",
            "generation hydro water reservoir                   : 0\n",
            "generation marine                                  : 5847\n",
            "generation nuclear                                 : 0\n",
            "generation other                                   : 0\n",
            "generation other renewable                         : 0\n",
            "generation solar                                   : 0\n",
            "generation waste                                   : 0\n",
            "generation wind offshore                           : 5847\n",
            "generation wind onshore                            : 0\n",
            "forecast solar day ahead                           : 134\n",
            "forecast wind offshore eday ahead                  : 0\n",
            "forecast wind onshore day ahead                    : 0\n",
            "total load forecast                                : 0\n",
            "total load actual                                  : 0\n",
            "price day ahead                                    : 0\n",
            "price actual                                       : 0\n"
          ]
        }
      ]
    },
    {
      "cell_type": "code",
      "source": [
        "data.drop(['generation hydro pumped storage aggregated', 'forecast wind offshore eday ahead',\n",
        "           'generation wind offshore', 'generation fossil coal-derived gas',\n",
        "           'generation fossil oil shale', 'generation fossil peat', 'generation marine',\n",
        "           'generation wind offshore', 'generation geothermal'], inplace = True, axis = 1)"
      ],
      "metadata": {
        "id": "KShWZog0Ew6c"
      },
      "execution_count": 82,
      "outputs": []
    },
    {
      "cell_type": "code",
      "source": [
        "data.isnull().sum()"
      ],
      "metadata": {
        "colab": {
          "base_uri": "https://localhost:8080/"
        },
        "id": "WmDyyTzYE000",
        "outputId": "539e9eeb-6927-46af-f54f-6b407971f3dc"
      },
      "execution_count": 83,
      "outputs": [
        {
          "output_type": "execute_result",
          "data": {
            "text/plain": [
              "generation biomass                             15\n",
              "generation fossil brown coal/lignite           15\n",
              "generation fossil gas                          15\n",
              "generation fossil hard coal                    15\n",
              "generation fossil oil                          15\n",
              "generation hydro pumped storage consumption    15\n",
              "generation hydro run-of-river and poundage     15\n",
              "generation hydro water reservoir               15\n",
              "generation nuclear                             15\n",
              "generation other                               15\n",
              "generation other renewable                     15\n",
              "generation solar                               15\n",
              "generation waste                               15\n",
              "generation wind onshore                        15\n",
              "forecast solar day ahead                        1\n",
              "forecast wind onshore day ahead                 1\n",
              "total load forecast                             1\n",
              "total load actual                              25\n",
              "price day ahead                                 1\n",
              "price actual                                    1\n",
              "dtype: int64"
            ]
          },
          "metadata": {},
          "execution_count": 83
        }
      ]
    },
    {
      "cell_type": "code",
      "source": [
        "plt.rcParams['figure.figsize'] = (15, 5)"
      ],
      "metadata": {
        "id": "lLtU15wrE4LG"
      },
      "execution_count": 84,
      "outputs": []
    },
    {
      "cell_type": "code",
      "source": [
        "plt.plot(data['total load actual'][:24*7*2])"
      ],
      "metadata": {
        "colab": {
          "base_uri": "https://localhost:8080/",
          "height": 337
        },
        "id": "ohuEMPqpE9YK",
        "outputId": "9aebe425-595d-4b14-adc7-71aee041d6a7"
      },
      "execution_count": 85,
      "outputs": [
        {
          "output_type": "execute_result",
          "data": {
            "text/plain": [
              "[<matplotlib.lines.Line2D at 0x7fdd725a91f0>]"
            ]
          },
          "metadata": {},
          "execution_count": 85
        },
        {
          "output_type": "display_data",
          "data": {
            "text/plain": [
              "<Figure size 1080x360 with 1 Axes>"
            ],
            "image/png": "[encoded data removed]"
          },
          "metadata": {
            "needs_background": "light"
          }
        }
      ]
    },
    {
      "cell_type": "code",
      "source": [
        "# Linear Interpolate the missing values in the dataset\n",
        "data.interpolate(method='linear', limit_direction='forward', inplace=True, axis=0)"
      ],
      "metadata": {
        "id": "4naN-brZE_dk"
      },
      "execution_count": 86,
      "outputs": []
    },
    {
      "cell_type": "code",
      "source": [
        "data.isnull().sum()"
      ],
      "metadata": {
        "colab": {
          "base_uri": "https://localhost:8080/"
        },
        "id": "XEpbIkuOFDL9",
        "outputId": "5e44c8b0-c005-4bef-c640-471cd20a189a"
      },
      "execution_count": 87,
      "outputs": [
        {
          "output_type": "execute_result",
          "data": {
            "text/plain": [
              "generation biomass                             0\n",
              "generation fossil brown coal/lignite           0\n",
              "generation fossil gas                          0\n",
              "generation fossil hard coal                    0\n",
              "generation fossil oil                          0\n",
              "generation hydro pumped storage consumption    0\n",
              "generation hydro run-of-river and poundage     0\n",
              "generation hydro water reservoir               0\n",
              "generation nuclear                             0\n",
              "generation other                               0\n",
              "generation other renewable                     0\n",
              "generation solar                               0\n",
              "generation waste                               0\n",
              "generation wind onshore                        0\n",
              "forecast solar day ahead                       0\n",
              "forecast wind onshore day ahead                0\n",
              "total load forecast                            0\n",
              "total load actual                              0\n",
              "price day ahead                                0\n",
              "price actual                                   0\n",
              "dtype: int64"
            ]
          },
          "metadata": {},
          "execution_count": 87
        }
      ]
    },
    {
      "cell_type": "code",
      "source": [
        "data.columns"
      ],
      "metadata": {
        "colab": {
          "base_uri": "https://localhost:8080/"
        },
        "id": "jJ4vfzV4FFmX",
        "outputId": "a528b567-989b-4fd5-ccc9-d12598f46efd"
      },
      "execution_count": 88,
      "outputs": [
        {
          "output_type": "execute_result",
          "data": {
            "text/plain": [
              "Index(['generation biomass', 'generation fossil brown coal/lignite',\n",
              "       'generation fossil gas', 'generation fossil hard coal',\n",
              "       'generation fossil oil', 'generation hydro pumped storage consumption',\n",
              "       'generation hydro run-of-river and poundage',\n",
              "       'generation hydro water reservoir', 'generation nuclear',\n",
              "       'generation other', 'generation other renewable', 'generation solar',\n",
              "       'generation waste', 'generation wind onshore',\n",
              "       'forecast solar day ahead', 'forecast wind onshore day ahead',\n",
              "       'total load forecast', 'total load actual', 'price day ahead',\n",
              "       'price actual'],\n",
              "      dtype='object')"
            ]
          },
          "metadata": {},
          "execution_count": 88
        }
      ]
    },
    {
      "cell_type": "code",
      "source": [
        "# creating a new column to sum the total Generationof power\n",
        "data['total generation'] = data['generation biomass'] + data['generation fossil brown coal/lignite'] + data['generation fossil gas'] + data['generation fossil hard coal'] + data['generation fossil oil'] + data['generation hydro pumped storage consumption'] + data['generation hydro run-of-river and poundage'] + data['generation hydro water reservoir'] + data['generation nuclear'] + data['generation other'] + data['generation other renewable'] + data['generation solar'] + data['generation waste'] + data['generation wind onshore']"
      ],
      "metadata": {
        "id": "ANAq9bmVFJOE"
      },
      "execution_count": 89,
      "outputs": []
    },
    {
      "cell_type": "code",
      "source": [
        "data.head()"
      ],
      "metadata": {
        "colab": {
          "base_uri": "https://localhost:8080/",
          "height": 487
        },
        "id": "o2CeIE6tFaUg",
        "outputId": "13e97d1b-ca75-4344-83b3-a9f40d1d8a0f"
      },
      "execution_count": 90,
      "outputs": [
        {
          "output_type": "execute_result",
          "data": {
            "text/plain": [
              "                           generation biomass  \\\n",
              "time                                            \n",
              "2014-12-31 23:00:00+00:00               447.0   \n",
              "2015-01-01 00:00:00+00:00               449.0   \n",
              "2015-01-01 01:00:00+00:00               448.0   \n",
              "2015-01-01 02:00:00+00:00               438.0   \n",
              "2015-01-01 03:00:00+00:00               428.0   \n",
              "\n",
              "                           generation fossil brown coal/lignite  \\\n",
              "time                                                              \n",
              "2014-12-31 23:00:00+00:00                                 329.0   \n",
              "2015-01-01 00:00:00+00:00                                 328.0   \n",
              "2015-01-01 01:00:00+00:00                                 323.0   \n",
              "2015-01-01 02:00:00+00:00                                 254.0   \n",
              "2015-01-01 03:00:00+00:00                                 187.0   \n",
              "\n",
              "                           generation fossil gas  generation fossil hard coal  \\\n",
              "time                                                                            \n",
              "2014-12-31 23:00:00+00:00                 4844.0                       4821.0   \n",
              "2015-01-01 00:00:00+00:00                 5196.0                       4755.0   \n",
              "2015-01-01 01:00:00+00:00                 4857.0                       4581.0   \n",
              "2015-01-01 02:00:00+00:00                 4314.0                       4131.0   \n",
              "2015-01-01 03:00:00+00:00                 4130.0                       3840.0   \n",
              "\n",
              "                           generation fossil oil  \\\n",
              "time                                               \n",
              "2014-12-31 23:00:00+00:00                  162.0   \n",
              "2015-01-01 00:00:00+00:00                  158.0   \n",
              "2015-01-01 01:00:00+00:00                  157.0   \n",
              "2015-01-01 02:00:00+00:00                  160.0   \n",
              "2015-01-01 03:00:00+00:00                  156.0   \n",
              "\n",
              "                           generation hydro pumped storage consumption  \\\n",
              "time                                                                     \n",
              "2014-12-31 23:00:00+00:00                                        863.0   \n",
              "2015-01-01 00:00:00+00:00                                        920.0   \n",
              "2015-01-01 01:00:00+00:00                                       1164.0   \n",
              "2015-01-01 02:00:00+00:00                                       1503.0   \n",
              "2015-01-01 03:00:00+00:00                                       1826.0   \n",
              "\n",
              "                           generation hydro run-of-river and poundage  \\\n",
              "time                                                                    \n",
              "2014-12-31 23:00:00+00:00                                      1051.0   \n",
              "2015-01-01 00:00:00+00:00                                      1009.0   \n",
              "2015-01-01 01:00:00+00:00                                       973.0   \n",
              "2015-01-01 02:00:00+00:00                                       949.0   \n",
              "2015-01-01 03:00:00+00:00                                       953.0   \n",
              "\n",
              "                           generation hydro water reservoir  \\\n",
              "time                                                          \n",
              "2014-12-31 23:00:00+00:00                            1899.0   \n",
              "2015-01-01 00:00:00+00:00                            1658.0   \n",
              "2015-01-01 01:00:00+00:00                            1371.0   \n",
              "2015-01-01 02:00:00+00:00                             779.0   \n",
              "2015-01-01 03:00:00+00:00                             720.0   \n",
              "\n",
              "                           generation nuclear  generation other  ...  \\\n",
              "time                                                             ...   \n",
              "2014-12-31 23:00:00+00:00              7096.0              43.0  ...   \n",
              "2015-01-01 00:00:00+00:00              7096.0              43.0  ...   \n",
              "2015-01-01 01:00:00+00:00              7099.0              43.0  ...   \n",
              "2015-01-01 02:00:00+00:00              7098.0              43.0  ...   \n",
              "2015-01-01 03:00:00+00:00              7097.0              43.0  ...   \n",
              "\n",
              "                           generation solar  generation waste  \\\n",
              "time                                                            \n",
              "2014-12-31 23:00:00+00:00              49.0             196.0   \n",
              "2015-01-01 00:00:00+00:00              50.0             195.0   \n",
              "2015-01-01 01:00:00+00:00              50.0             196.0   \n",
              "2015-01-01 02:00:00+00:00              50.0             191.0   \n",
              "2015-01-01 03:00:00+00:00              42.0             189.0   \n",
              "\n",
              "                           generation wind onshore  forecast solar day ahead  \\\n",
              "time                                                                           \n",
              "2014-12-31 23:00:00+00:00                   6378.0                      17.0   \n",
              "2015-01-01 00:00:00+00:00                   5890.0                      16.0   \n",
              "2015-01-01 01:00:00+00:00                   5461.0                       8.0   \n",
              "2015-01-01 02:00:00+00:00                   5238.0                       2.0   \n",
              "2015-01-01 03:00:00+00:00                   4935.0                       9.0   \n",
              "\n",
              "                           forecast wind onshore day ahead  \\\n",
              "time                                                         \n",
              "2014-12-31 23:00:00+00:00                           6436.0   \n",
              "2015-01-01 00:00:00+00:00                           5856.0   \n",
              "2015-01-01 01:00:00+00:00                           5454.0   \n",
              "2015-01-01 02:00:00+00:00                           5151.0   \n",
              "2015-01-01 03:00:00+00:00                           4861.0   \n",
              "\n",
              "                           total load forecast  total load actual  \\\n",
              "time                                                                \n",
              "2014-12-31 23:00:00+00:00              26118.0            25385.0   \n",
              "2015-01-01 00:00:00+00:00              24934.0            24382.0   \n",
              "2015-01-01 01:00:00+00:00              23515.0            22734.0   \n",
              "2015-01-01 02:00:00+00:00              22642.0            21286.0   \n",
              "2015-01-01 03:00:00+00:00              21785.0            20264.0   \n",
              "\n",
              "                           price day ahead  price actual  total generation  \n",
              "time                                                                        \n",
              "2014-12-31 23:00:00+00:00            50.10         65.41           28251.0  \n",
              "2015-01-01 00:00:00+00:00            48.10         64.92           27818.0  \n",
              "2015-01-01 01:00:00+00:00            47.33         64.48           26796.0  \n",
              "2015-01-01 02:00:00+00:00            42.27         59.32           25223.0  \n",
              "2015-01-01 03:00:00+00:00            38.41         56.04           24620.0  \n",
              "\n",
              "[5 rows x 21 columns]"
            ],
            "text/html": [
              "\n",
              "  <div id=\"df-58b1131e-89ba-4df7-987b-359484a5facc\">\n",
              "    <div class=\"colab-df-container\">\n",
              "      <div>\n",
              "<style scoped>\n",
              "    .dataframe tbody tr th:only-of-type {\n",
              "        vertical-align: middle;\n",
              "    }\n",
              "\n",
              "    .dataframe tbody tr th {\n",
              "        vertical-align: top;\n",
              "    }\n",
              "\n",
              "    .dataframe thead th {\n",
              "        text-align: right;\n",
              "    }\n",
              "</style>\n",
              "<table border=\"1\" class=\"dataframe\">\n",
              "  <thead>\n",
              "    <tr style=\"text-align: right;\">\n",
              "      <th></th>\n",
              "      <th>generation biomass</th>\n",
              "      <th>generation fossil brown coal/lignite</th>\n",
              "      <th>generation fossil gas</th>\n",
              "      <th>generation fossil hard coal</th>\n",
              "      <th>generation fossil oil</th>\n",
              "      <th>generation hydro pumped storage consumption</th>\n",
              "      <th>generation hydro run-of-river and poundage</th>\n",
              "      <th>generation hydro water reservoir</th>\n",
              "      <th>generation nuclear</th>\n",
              "      <th>generation other</th>\n",
              "      <th>...</th>\n",
              "      <th>generation solar</th>\n",
              "      <th>generation waste</th>\n",
              "      <th>generation wind onshore</th>\n",
              "      <th>forecast solar day ahead</th>\n",
              "      <th>forecast wind onshore day ahead</th>\n",
              "      <th>total load forecast</th>\n",
              "      <th>total load actual</th>\n",
              "      <th>price day ahead</th>\n",
              "      <th>price actual</th>\n",
              "      <th>total generation</th>\n",
              "    </tr>\n",
              "    <tr>\n",
              "      <th>time</th>\n",
              "      <th></th>\n",
              "      <th></th>\n",
              "      <th></th>\n",
              "      <th></th>\n",
              "      <th></th>\n",
              "      <th></th>\n",
              "      <th></th>\n",
              "      <th></th>\n",
              "      <th></th>\n",
              "      <th></th>\n",
              "      <th></th>\n",
              "      <th></th>\n",
              "      <th></th>\n",
              "      <th></th>\n",
              "      <th></th>\n",
              "      <th></th>\n",
              "      <th></th>\n",
              "      <th></th>\n",
              "      <th></th>\n",
              "      <th></th>\n",
              "      <th></th>\n",
              "    </tr>\n",
              "  </thead>\n",
              "  <tbody>\n",
              "    <tr>\n",
              "      <th>2014-12-31 23:00:00+00:00</th>\n",
              "      <td>447.0</td>\n",
              "      <td>329.0</td>\n",
              "      <td>4844.0</td>\n",
              "      <td>4821.0</td>\n",
              "      <td>162.0</td>\n",
              "      <td>863.0</td>\n",
              "      <td>1051.0</td>\n",
              "      <td>1899.0</td>\n",
              "      <td>7096.0</td>\n",
              "      <td>43.0</td>\n",
              "      <td>...</td>\n",
              "      <td>49.0</td>\n",
              "      <td>196.0</td>\n",
              "      <td>6378.0</td>\n",
              "      <td>17.0</td>\n",
              "      <td>6436.0</td>\n",
              "      <td>26118.0</td>\n",
              "      <td>25385.0</td>\n",
              "      <td>50.10</td>\n",
              "      <td>65.41</td>\n",
              "      <td>28251.0</td>\n",
              "    </tr>\n",
              "    <tr>\n",
              "      <th>2015-01-01 00:00:00+00:00</th>\n",
              "      <td>449.0</td>\n",
              "      <td>328.0</td>\n",
              "      <td>5196.0</td>\n",
              "      <td>4755.0</td>\n",
              "      <td>158.0</td>\n",
              "      <td>920.0</td>\n",
              "      <td>1009.0</td>\n",
              "      <td>1658.0</td>\n",
              "      <td>7096.0</td>\n",
              "      <td>43.0</td>\n",
              "      <td>...</td>\n",
              "      <td>50.0</td>\n",
              "      <td>195.0</td>\n",
              "      <td>5890.0</td>\n",
              "      <td>16.0</td>\n",
              "      <td>5856.0</td>\n",
              "      <td>24934.0</td>\n",
              "      <td>24382.0</td>\n",
              "      <td>48.10</td>\n",
              "      <td>64.92</td>\n",
              "      <td>27818.0</td>\n",
              "    </tr>\n",
              "    <tr>\n",
              "      <th>2015-01-01 01:00:00+00:00</th>\n",
              "      <td>448.0</td>\n",
              "      <td>323.0</td>\n",
              "      <td>4857.0</td>\n",
              "      <td>4581.0</td>\n",
              "      <td>157.0</td>\n",
              "      <td>1164.0</td>\n",
              "      <td>973.0</td>\n",
              "      <td>1371.0</td>\n",
              "      <td>7099.0</td>\n",
              "      <td>43.0</td>\n",
              "      <td>...</td>\n",
              "      <td>50.0</td>\n",
              "      <td>196.0</td>\n",
              "      <td>5461.0</td>\n",
              "      <td>8.0</td>\n",
              "      <td>5454.0</td>\n",
              "      <td>23515.0</td>\n",
              "      <td>22734.0</td>\n",
              "      <td>47.33</td>\n",
              "      <td>64.48</td>\n",
              "      <td>26796.0</td>\n",
              "    </tr>\n",
              "    <tr>\n",
              "      <th>2015-01-01 02:00:00+00:00</th>\n",
              "      <td>438.0</td>\n",
              "      <td>254.0</td>\n",
              "      <td>4314.0</td>\n",
              "      <td>4131.0</td>\n",
              "      <td>160.0</td>\n",
              "      <td>1503.0</td>\n",
              "      <td>949.0</td>\n",
              "      <td>779.0</td>\n",
              "      <td>7098.0</td>\n",
              "      <td>43.0</td>\n",
              "      <td>...</td>\n",
              "      <td>50.0</td>\n",
              "      <td>191.0</td>\n",
              "      <td>5238.0</td>\n",
              "      <td>2.0</td>\n",
              "      <td>5151.0</td>\n",
              "      <td>22642.0</td>\n",
              "      <td>21286.0</td>\n",
              "      <td>42.27</td>\n",
              "      <td>59.32</td>\n",
              "      <td>25223.0</td>\n",
              "    </tr>\n",
              "    <tr>\n",
              "      <th>2015-01-01 03:00:00+00:00</th>\n",
              "      <td>428.0</td>\n",
              "      <td>187.0</td>\n",
              "      <td>4130.0</td>\n",
              "      <td>3840.0</td>\n",
              "      <td>156.0</td>\n",
              "      <td>1826.0</td>\n",
              "      <td>953.0</td>\n",
              "      <td>720.0</td>\n",
              "      <td>7097.0</td>\n",
              "      <td>43.0</td>\n",
              "      <td>...</td>\n",
              "      <td>42.0</td>\n",
              "      <td>189.0</td>\n",
              "      <td>4935.0</td>\n",
              "      <td>9.0</td>\n",
              "      <td>4861.0</td>\n",
              "      <td>21785.0</td>\n",
              "      <td>20264.0</td>\n",
              "      <td>38.41</td>\n",
              "      <td>56.04</td>\n",
              "      <td>24620.0</td>\n",
              "    </tr>\n",
              "  </tbody>\n",
              "</table>\n",
              "<p>5 rows × 21 columns</p>\n",
              "</div>\n",
              "      <button class=\"colab-df-convert\" onclick=\"convertToInteractive('df-58b1131e-89ba-4df7-987b-359484a5facc')\"\n",
              "              title=\"Convert this dataframe to an interactive table.\"\n",
              "              style=\"display:none;\">\n",
              "        \n",
              "  <svg xmlns=\"http://www.w3.org/2000/svg\" height=\"24px\"viewBox=\"0 0 24 24\"\n",
              "       width=\"24px\">\n",
              "    <path d=\"M0 0h24v24H0V0z\" fill=\"none\"/>\n",
              "    <path d=\"M18.56 5.44l.94 2.06.94-2.06 2.06-.94-2.06-.94-.94-2.06-.94 2.06-2.06.94zm-11 1L8.5 8.5l.94-2.06 2.06-.94-2.06-.94L8.5 2.5l-.94 2.06-2.06.94zm10 10l.94 2.06.94-2.06 2.06-.94-2.06-.94-.94-2.06-.94 2.06-2.06.94z\"/><path d=\"M17.41 7.96l-1.37-1.37c-.4-.4-.92-.59-1.43-.59-.52 0-1.04.2-1.43.59L10.3 9.45l-7.72 7.72c-.78.78-.78 2.05 0 2.83L4 21.41c.39.39.9.59 1.41.59.51 0 1.02-.2 1.41-.59l7.78-7.78 2.81-2.81c.8-.78.8-2.07 0-2.86zM5.41 20L4 18.59l7.72-7.72 1.47 1.35L5.41 20z\"/>\n",
              "  </svg>\n",
              "      </button>\n",
              "      \n",
              "  <style>\n",
              "    .colab-df-container {\n",
              "      display:flex;\n",
              "      flex-wrap:wrap;\n",
              "      gap: 12px;\n",
              "    }\n",
              "\n",
              "    .colab-df-convert {\n",
              "      background-color: #E8F0FE;\n",
              "      border: none;\n",
              "      border-radius: 50%;\n",
              "      cursor: pointer;\n",
              "      display: none;\n",
              "      fill: #1967D2;\n",
              "      height: 32px;\n",
              "      padding: 0 0 0 0;\n",
              "      width: 32px;\n",
              "    }\n",
              "\n",
              "    .colab-df-convert:hover {\n",
              "      background-color: #E2EBFA;\n",
              "      box-shadow: 0px 1px 2px rgba(60, 64, 67, 0.3), 0px 1px 3px 1px rgba(60, 64, 67, 0.15);\n",
              "      fill: #174EA6;\n",
              "    }\n",
              "\n",
              "    [theme=dark] .colab-df-convert {\n",
              "      background-color: #3B4455;\n",
              "      fill: #D2E3FC;\n",
              "    }\n",
              "\n",
              "    [theme=dark] .colab-df-convert:hover {\n",
              "      background-color: #434B5C;\n",
              "      box-shadow: 0px 1px 3px 1px rgba(0, 0, 0, 0.15);\n",
              "      filter: drop-shadow(0px 1px 2px rgba(0, 0, 0, 0.3));\n",
              "      fill: #FFFFFF;\n",
              "    }\n",
              "  </style>\n",
              "\n",
              "      <script>\n",
              "        const buttonEl =\n",
              "          document.querySelector('#df-58b1131e-89ba-4df7-987b-359484a5facc button.colab-df-convert');\n",
              "        buttonEl.style.display =\n",
              "          google.colab.kernel.accessAllowed ? 'block' : 'none';\n",
              "\n",
              "        async function convertToInteractive(key) {\n",
              "          const element = document.querySelector('#df-58b1131e-89ba-4df7-987b-359484a5facc');\n",
              "          const dataTable =\n",
              "            await google.colab.kernel.invokeFunction('convertToInteractive',\n",
              "                                                     [key], {});\n",
              "          if (!dataTable) return;\n",
              "\n",
              "          const docLinkHtml = 'Like what you see? Visit the ' +\n",
              "            '<a target=\"_blank\" href=https://colab.research.google.com/notebooks/data_table.ipynb>data table notebook</a>'\n",
              "            + ' to learn more about interactive tables.';\n",
              "          element.innerHTML = '';\n",
              "          dataTable['output_type'] = 'display_data';\n",
              "          await google.colab.output.renderOutput(dataTable, element);\n",
              "          const docLink = document.createElement('div');\n",
              "          docLink.innerHTML = docLinkHtml;\n",
              "          element.appendChild(docLink);\n",
              "        }\n",
              "      </script>\n",
              "    </div>\n",
              "  </div>\n",
              "  "
            ]
          },
          "metadata": {},
          "execution_count": 90
        }
      ]
    },
    {
      "cell_type": "markdown",
      "source": [
        "### Data Visualization"
      ],
      "metadata": {
        "id": "GhyJJXelKicp"
      }
    },
    {
      "cell_type": "code",
      "source": [
        "# Total Generation\n",
        "sns.distplot(x= data['total generation'], kde = True)"
      ],
      "metadata": {
        "colab": {
          "base_uri": "https://localhost:8080/",
          "height": 337
        },
        "id": "DJBcgu96Fdyq",
        "outputId": "f5f89d69-1918-43ba-f64f-0e94c1ec4a12"
      },
      "execution_count": 91,
      "outputs": [
        {
          "output_type": "execute_result",
          "data": {
            "text/plain": [
              "<matplotlib.axes._subplots.AxesSubplot at 0x7fdd74147880>"
            ]
          },
          "metadata": {},
          "execution_count": 91
        },
        {
          "output_type": "display_data",
          "data": {
            "text/plain": [
              "<Figure size 1080x360 with 1 Axes>"
            ],
            "image/png": "[encoded data removed]"
          },
          "metadata": {
            "needs_background": "light"
          }
        }
      ]
    },
    {
      "cell_type": "code",
      "source": [
        "#Ploting the actual hourly electricity price and its rolling mean over a week\n",
        "fig, ax = plt.subplots(1,1)\n",
        "rolling = data['price actual'].rolling(24*7, center = True).mean()\n",
        "ax.plot(data['price actual'], color = 'r', label='Actual Price')\n",
        "ax.plot(rolling, color = 'black', linestyle='-', linewidth=2, label='Weekly rolling mean')\n",
        "plt.legend()\n",
        "plt.show()"
      ],
      "metadata": {
        "colab": {
          "base_uri": "https://localhost:8080/",
          "height": 320
        },
        "id": "ndEHWoXcFhEH",
        "outputId": "06b352fb-7be2-4b0f-a754-aad437a59dbf"
      },
      "execution_count": 92,
      "outputs": [
        {
          "output_type": "display_data",
          "data": {
            "text/plain": [
              "<Figure size 1080x360 with 1 Axes>"
            ],
            "image/png": "[encoded data removed]"
          },
          "metadata": {
            "needs_background": "light"
          }
        }
      ]
    },
    {
      "cell_type": "markdown",
      "source": [
        "### Splitting Data"
      ],
      "metadata": {
        "id": "Fk5-_xT0Kmey"
      }
    },
    {
      "cell_type": "code",
      "source": [
        "def prepare_dataset(data, size):\n",
        "  x_data = []\n",
        "  y_data = []\n",
        "\n",
        "  l = len(data) - size\n",
        "\n",
        "  for i in range(l):\n",
        "    x = data[i:i+size]\n",
        "    y = data[i+size]\n",
        "    x_data.append(x)\n",
        "    y_data.append(y)\n",
        "\n",
        "  return np.array(x_data), np.array(y_data)"
      ],
      "metadata": {
        "id": "o1fSefCXFkQ8"
      },
      "execution_count": 93,
      "outputs": []
    },
    {
      "cell_type": "code",
      "source": [
        "def plot_model_rmse_and_loss(history, title):\n",
        "    \n",
        "    # Evaluate train and validation accuracies and losses\n",
        "    \n",
        "    train_rmse = history.history['root_mean_squared_error']\n",
        "    val_rmse = history.history['val_root_mean_squared_error']\n",
        "    \n",
        "    train_loss = history.history['loss']\n",
        "    val_loss = history.history['val_loss']\n",
        "    \n",
        "    # Visualize epochs vs. train and validation accuracies and losses\n",
        "    \n",
        "    plt.figure(figsize=(15, 5))\n",
        "\n",
        "    plt.subplot(1, 2, 1)\n",
        "    plt.plot(train_rmse, label='Training RMSE')\n",
        "    plt.plot(val_rmse, label='Validation RMSE')\n",
        "    plt.legend()\n",
        "    plt.title('Epochs vs. Training and Validation RMSE')\n",
        "    \n",
        "    plt.subplot(1, 2, 2)\n",
        "    plt.plot(train_loss, label='Training Loss')\n",
        "    plt.plot(val_loss, label='Validation Loss')\n",
        "    plt.legend()\n",
        "    plt.title('Epochs vs. Training and Validation Loss')\n",
        "\n",
        "    plt.suptitle(title, fontweight = 'bold',  fontsize= 15)\n",
        "    \n",
        "    plt.show()"
      ],
      "metadata": {
        "id": "o2W4mVoMFunq"
      },
      "execution_count": 94,
      "outputs": []
    },
    {
      "cell_type": "markdown",
      "source": [
        "### Forecasting Daily Electricity Prices"
      ],
      "metadata": {
        "id": "zE11B3ufKwVw"
      }
    },
    {
      "cell_type": "code",
      "source": [
        "from sklearn.preprocessing import MinMaxScaler\n",
        "\n",
        "data_filtered = data['price actual'].values\n",
        "\n",
        "scaler = MinMaxScaler(feature_range = (0,1))\n",
        "\n",
        "scaled_data = scaler.fit_transform(data_filtered.reshape(-1,1))\n",
        "scaled_data.shape"
      ],
      "metadata": {
        "colab": {
          "base_uri": "https://localhost:8080/"
        },
        "id": "dUpWeeoHF0Yz",
        "outputId": "dd8264dd-1aac-4877-9169-a8a585220351"
      },
      "execution_count": 95,
      "outputs": [
        {
          "output_type": "execute_result",
          "data": {
            "text/plain": [
              "(5862, 1)"
            ]
          },
          "metadata": {},
          "execution_count": 95
        }
      ]
    },
    {
      "cell_type": "code",
      "source": [
        "train_size = int(np.ceil(len(scaled_data) * 0.8))\n",
        "test_size = int((len(scaled_data) - train_size) *0.5)\n",
        "print(train_size, test_size)"
      ],
      "metadata": {
        "colab": {
          "base_uri": "https://localhost:8080/"
        },
        "id": "SyLENjyoF3f3",
        "outputId": "10e08532-15cc-452b-e041-1ee0c1aac07a"
      },
      "execution_count": 96,
      "outputs": [
        {
          "output_type": "stream",
          "name": "stdout",
          "text": [
            "4690 586\n"
          ]
        }
      ]
    },
    {
      "cell_type": "code",
      "source": [
        "xtrain, ytrain = prepare_dataset(scaled_data[:train_size], 25)\n",
        "xval, yval = prepare_dataset(scaled_data[train_size-25:train_size +test_size], 25)\n",
        "xtest, ytest = prepare_dataset(scaled_data[train_size + test_size-25:], 25)"
      ],
      "metadata": {
        "id": "jaDm2h3MF6b2"
      },
      "execution_count": 97,
      "outputs": []
    },
    {
      "cell_type": "code",
      "source": [
        "print(xtrain.shape)\n",
        "print(xval.shape)\n",
        "print(xtest.shape)"
      ],
      "metadata": {
        "colab": {
          "base_uri": "https://localhost:8080/"
        },
        "id": "l903pnztF9aH",
        "outputId": "915c0ab8-a842-4c62-f779-b52e301009d3"
      },
      "execution_count": 98,
      "outputs": [
        {
          "output_type": "stream",
          "name": "stdout",
          "text": [
            "(4665, 25, 1)\n",
            "(586, 25, 1)\n",
            "(586, 25, 1)\n"
          ]
        }
      ]
    },
    {
      "cell_type": "markdown",
      "source": [
        "### Forecasting"
      ],
      "metadata": {
        "id": "Aktv_OHTK7Bi"
      }
    },
    {
      "cell_type": "code",
      "source": [
        "import tensorflow as tf\n",
        "from tensorflow.keras import Sequential\n",
        "from tensorflow.keras.layers import Dense, LSTM, Dropout, Conv1D, Flatten, SimpleRNN"
      ],
      "metadata": {
        "id": "nlFfl8FWGAC4"
      },
      "execution_count": 99,
      "outputs": []
    },
    {
      "cell_type": "code",
      "source": [
        "loss = tf.keras.losses.MeanSquaredError()\n",
        "metric = [tf.keras.metrics.RootMeanSquaredError()]\n",
        "optimizer = tf.keras.optimizers.Adam()\n",
        "early_stopping = [tf.keras.callbacks.EarlyStopping(monitor = 'loss', patience = 5)]"
      ],
      "metadata": {
        "id": "ClhstvSYGC_p"
      },
      "execution_count": 100,
      "outputs": []
    },
    {
      "cell_type": "markdown",
      "source": [
        "### Stacked SimpleRNN"
      ],
      "metadata": {
        "id": "aNZAKhdOLA-r"
      }
    },
    {
      "cell_type": "code",
      "source": [
        "model_SimpleRNN = Sequential()\n",
        "model_SimpleRNN.add(SimpleRNN(128, return_sequences = True, input_shape = (xtrain.shape[1], 1)))\n",
        "model_SimpleRNN.add(SimpleRNN(64, return_sequences = False))\n",
        "model_SimpleRNN.add(Dense(64))\n",
        "model_SimpleRNN.add(Dropout(0.2))\n",
        "model_SimpleRNN.add(Dense(1))\n",
        "model_SimpleRNN.compile(loss = loss, metrics = metric, optimizer = optimizer)\n",
        "\n",
        "history = model_SimpleRNN.fit(xtrain, ytrain, epochs = 100, validation_data =(xval,yval), callbacks = early_stopping)"
      ],
      "metadata": {
        "colab": {
          "base_uri": "https://localhost:8080/"
        },
        "id": "heL-TAUSGIGg",
        "outputId": "a16b8d14-e210-4075-9b3a-91e93bb56d5d"
      },
      "execution_count": 101,
      "outputs": [
        {
          "output_type": "stream",
          "name": "stdout",
          "text": [
            "Epoch 1/100\n",
            "146/146 [==============================] - 7s 41ms/step - loss: 0.0575 - root_mean_squared_error: 0.2399 - val_loss: 0.0024 - val_root_mean_squared_error: 0.0485\n",
            "Epoch 2/100\n",
            "146/146 [==============================] - 6s 38ms/step - loss: 0.0070 - root_mean_squared_error: 0.0836 - val_loss: 0.0020 - val_root_mean_squared_error: 0.0450\n",
            "Epoch 3/100\n",
            "146/146 [==============================] - 6s 39ms/step - loss: 0.0050 - root_mean_squared_error: 0.0709 - val_loss: 0.0018 - val_root_mean_squared_error: 0.0419\n",
            "Epoch 4/100\n",
            "146/146 [==============================] - 6s 38ms/step - loss: 0.0043 - root_mean_squared_error: 0.0655 - val_loss: 0.0014 - val_root_mean_squared_error: 0.0369\n",
            "Epoch 5/100\n",
            "146/146 [==============================] - 5s 38ms/step - loss: 0.0037 - root_mean_squared_error: 0.0605 - val_loss: 0.0026 - val_root_mean_squared_error: 0.0505\n",
            "Epoch 6/100\n",
            "146/146 [==============================] - 6s 38ms/step - loss: 0.0039 - root_mean_squared_error: 0.0624 - val_loss: 0.0013 - val_root_mean_squared_error: 0.0360\n",
            "Epoch 7/100\n",
            "146/146 [==============================] - 6s 38ms/step - loss: 0.0030 - root_mean_squared_error: 0.0552 - val_loss: 0.0011 - val_root_mean_squared_error: 0.0327\n",
            "Epoch 8/100\n",
            "146/146 [==============================] - 5s 37ms/step - loss: 0.0030 - root_mean_squared_error: 0.0543 - val_loss: 0.0015 - val_root_mean_squared_error: 0.0385\n",
            "Epoch 9/100\n",
            "146/146 [==============================] - 6s 38ms/step - loss: 0.0031 - root_mean_squared_error: 0.0561 - val_loss: 0.0011 - val_root_mean_squared_error: 0.0325\n",
            "Epoch 10/100\n",
            "146/146 [==============================] - 6s 38ms/step - loss: 0.0028 - root_mean_squared_error: 0.0533 - val_loss: 0.0011 - val_root_mean_squared_error: 0.0329\n",
            "Epoch 11/100\n",
            "146/146 [==============================] - 6s 38ms/step - loss: 0.0029 - root_mean_squared_error: 0.0538 - val_loss: 0.0010 - val_root_mean_squared_error: 0.0318\n",
            "Epoch 12/100\n",
            "146/146 [==============================] - 6s 39ms/step - loss: 0.0027 - root_mean_squared_error: 0.0520 - val_loss: 0.0024 - val_root_mean_squared_error: 0.0485\n",
            "Epoch 13/100\n",
            "146/146 [==============================] - 6s 39ms/step - loss: 0.0026 - root_mean_squared_error: 0.0510 - val_loss: 9.9445e-04 - val_root_mean_squared_error: 0.0315\n",
            "Epoch 14/100\n",
            "146/146 [==============================] - 5s 38ms/step - loss: 0.0025 - root_mean_squared_error: 0.0503 - val_loss: 0.0015 - val_root_mean_squared_error: 0.0382\n",
            "Epoch 15/100\n",
            "146/146 [==============================] - 6s 38ms/step - loss: 0.0026 - root_mean_squared_error: 0.0513 - val_loss: 0.0015 - val_root_mean_squared_error: 0.0390\n",
            "Epoch 16/100\n",
            "146/146 [==============================] - 5s 37ms/step - loss: 0.0023 - root_mean_squared_error: 0.0483 - val_loss: 0.0014 - val_root_mean_squared_error: 0.0375\n",
            "Epoch 17/100\n",
            "146/146 [==============================] - 6s 39ms/step - loss: 0.0023 - root_mean_squared_error: 0.0484 - val_loss: 0.0010 - val_root_mean_squared_error: 0.0320\n",
            "Epoch 18/100\n",
            "146/146 [==============================] - 6s 38ms/step - loss: 0.0023 - root_mean_squared_error: 0.0482 - val_loss: 0.0011 - val_root_mean_squared_error: 0.0330\n",
            "Epoch 19/100\n",
            "146/146 [==============================] - 5s 38ms/step - loss: 0.0023 - root_mean_squared_error: 0.0481 - val_loss: 0.0010 - val_root_mean_squared_error: 0.0323\n",
            "Epoch 20/100\n",
            "146/146 [==============================] - 6s 38ms/step - loss: 0.0021 - root_mean_squared_error: 0.0458 - val_loss: 0.0013 - val_root_mean_squared_error: 0.0358\n",
            "Epoch 21/100\n",
            "146/146 [==============================] - 6s 38ms/step - loss: 0.0021 - root_mean_squared_error: 0.0460 - val_loss: 0.0026 - val_root_mean_squared_error: 0.0505\n",
            "Epoch 22/100\n",
            "146/146 [==============================] - 6s 39ms/step - loss: 0.0021 - root_mean_squared_error: 0.0457 - val_loss: 0.0011 - val_root_mean_squared_error: 0.0327\n",
            "Epoch 23/100\n",
            "146/146 [==============================] - 5s 38ms/step - loss: 0.0021 - root_mean_squared_error: 0.0457 - val_loss: 0.0011 - val_root_mean_squared_error: 0.0334\n",
            "Epoch 24/100\n",
            "146/146 [==============================] - 6s 38ms/step - loss: 0.0021 - root_mean_squared_error: 0.0453 - val_loss: 0.0011 - val_root_mean_squared_error: 0.0334\n",
            "Epoch 25/100\n",
            "146/146 [==============================] - 6s 42ms/step - loss: 0.0020 - root_mean_squared_error: 0.0450 - val_loss: 0.0012 - val_root_mean_squared_error: 0.0348\n",
            "Epoch 26/100\n",
            "146/146 [==============================] - 6s 38ms/step - loss: 0.0019 - root_mean_squared_error: 0.0434 - val_loss: 0.0014 - val_root_mean_squared_error: 0.0372\n",
            "Epoch 27/100\n",
            "146/146 [==============================] - 5s 37ms/step - loss: 0.0020 - root_mean_squared_error: 0.0446 - val_loss: 0.0011 - val_root_mean_squared_error: 0.0334\n",
            "Epoch 28/100\n",
            "146/146 [==============================] - 6s 40ms/step - loss: 0.0020 - root_mean_squared_error: 0.0442 - val_loss: 0.0012 - val_root_mean_squared_error: 0.0342\n",
            "Epoch 29/100\n",
            "146/146 [==============================] - 6s 41ms/step - loss: 0.0019 - root_mean_squared_error: 0.0432 - val_loss: 9.9158e-04 - val_root_mean_squared_error: 0.0315\n",
            "Epoch 30/100\n",
            "146/146 [==============================] - 6s 39ms/step - loss: 0.0018 - root_mean_squared_error: 0.0423 - val_loss: 0.0010 - val_root_mean_squared_error: 0.0321\n",
            "Epoch 31/100\n",
            "146/146 [==============================] - 6s 39ms/step - loss: 0.0018 - root_mean_squared_error: 0.0421 - val_loss: 0.0012 - val_root_mean_squared_error: 0.0350\n",
            "Epoch 32/100\n",
            "146/146 [==============================] - 6s 38ms/step - loss: 0.0017 - root_mean_squared_error: 0.0409 - val_loss: 0.0011 - val_root_mean_squared_error: 0.0337\n",
            "Epoch 33/100\n",
            "146/146 [==============================] - 6s 40ms/step - loss: 0.0018 - root_mean_squared_error: 0.0424 - val_loss: 9.9027e-04 - val_root_mean_squared_error: 0.0315\n",
            "Epoch 34/100\n",
            "146/146 [==============================] - 6s 40ms/step - loss: 0.0017 - root_mean_squared_error: 0.0417 - val_loss: 0.0010 - val_root_mean_squared_error: 0.0321\n",
            "Epoch 35/100\n",
            "146/146 [==============================] - 6s 40ms/step - loss: 0.0017 - root_mean_squared_error: 0.0416 - val_loss: 0.0010 - val_root_mean_squared_error: 0.0320\n",
            "Epoch 36/100\n",
            "146/146 [==============================] - 6s 38ms/step - loss: 0.0017 - root_mean_squared_error: 0.0408 - val_loss: 0.0011 - val_root_mean_squared_error: 0.0337\n",
            "Epoch 37/100\n",
            "146/146 [==============================] - 6s 38ms/step - loss: 0.0017 - root_mean_squared_error: 0.0415 - val_loss: 0.0012 - val_root_mean_squared_error: 0.0349\n",
            "Epoch 38/100\n",
            "146/146 [==============================] - 6s 38ms/step - loss: 0.0017 - root_mean_squared_error: 0.0415 - val_loss: 0.0011 - val_root_mean_squared_error: 0.0333\n",
            "Epoch 39/100\n",
            "146/146 [==============================] - 6s 39ms/step - loss: 0.0016 - root_mean_squared_error: 0.0397 - val_loss: 9.9715e-04 - val_root_mean_squared_error: 0.0316\n",
            "Epoch 40/100\n",
            "146/146 [==============================] - 6s 38ms/step - loss: 0.0016 - root_mean_squared_error: 0.0405 - val_loss: 0.0013 - val_root_mean_squared_error: 0.0360\n",
            "Epoch 41/100\n",
            "146/146 [==============================] - 6s 39ms/step - loss: 0.0016 - root_mean_squared_error: 0.0402 - val_loss: 0.0010 - val_root_mean_squared_error: 0.0322\n",
            "Epoch 42/100\n",
            "146/146 [==============================] - 6s 38ms/step - loss: 0.0014 - root_mean_squared_error: 0.0379 - val_loss: 0.0012 - val_root_mean_squared_error: 0.0341\n",
            "Epoch 43/100\n",
            "146/146 [==============================] - 6s 38ms/step - loss: 0.0015 - root_mean_squared_error: 0.0393 - val_loss: 0.0017 - val_root_mean_squared_error: 0.0407\n",
            "Epoch 44/100\n",
            "146/146 [==============================] - 6s 39ms/step - loss: 0.0016 - root_mean_squared_error: 0.0400 - val_loss: 0.0014 - val_root_mean_squared_error: 0.0380\n",
            "Epoch 45/100\n",
            "146/146 [==============================] - 6s 39ms/step - loss: 0.0015 - root_mean_squared_error: 0.0388 - val_loss: 0.0011 - val_root_mean_squared_error: 0.0336\n",
            "Epoch 46/100\n",
            "146/146 [==============================] - 6s 38ms/step - loss: 0.0015 - root_mean_squared_error: 0.0391 - val_loss: 0.0010 - val_root_mean_squared_error: 0.0321\n",
            "Epoch 47/100\n",
            "146/146 [==============================] - 6s 38ms/step - loss: 0.0015 - root_mean_squared_error: 0.0387 - val_loss: 0.0018 - val_root_mean_squared_error: 0.0419\n"
          ]
        }
      ]
    },
    {
      "cell_type": "code",
      "source": [
        "plot_model_rmse_and_loss(history,\"SimpleRNN\")"
      ],
      "metadata": {
        "colab": {
          "base_uri": "https://localhost:8080/",
          "height": 356
        },
        "id": "-kWbnZP7GQ6Y",
        "outputId": "04837b91-7469-42b4-8d9b-5940b2b0d512"
      },
      "execution_count": 102,
      "outputs": [
        {
          "output_type": "display_data",
          "data": {
            "text/plain": [
              "<Figure size 1080x360 with 2 Axes>"
            ],
            "image/png": "[encoded data removed]"
          },
          "metadata": {
            "needs_background": "light"
          }
        }
      ]
    },
    {
      "cell_type": "code",
      "source": [
        "predictions = model_SimpleRNN.predict(xtest)\n",
        "predictions = scaler.inverse_transform(predictions)\n",
        "simplernn_rmse = np.sqrt(np.mean(((predictions - ytest) ** 2)))\n",
        "print(f\"Root Mean Squared Error for SimpleRNN = {simplernn_rmse}\")"
      ],
      "metadata": {
        "colab": {
          "base_uri": "https://localhost:8080/"
        },
        "id": "dVIR0xjBGX0v",
        "outputId": "d2f7e6f3-3ee3-40a6-ba24-6427c19988ea"
      },
      "execution_count": 103,
      "outputs": [
        {
          "output_type": "stream",
          "name": "stdout",
          "text": [
            "19/19 [==============================] - 0s 5ms/step\n",
            "Root Mean Squared Error for SimpleRNN = 61.678677475775366\n"
          ]
        }
      ]
    },
    {
      "cell_type": "markdown",
      "source": [
        "### Single Layer LSTM"
      ],
      "metadata": {
        "id": "z2taik3mLEKx"
      }
    },
    {
      "cell_type": "code",
      "source": [
        "model_LSTM = Sequential()\n",
        "model_LSTM.add(LSTM(128, input_shape = (xtrain.shape[1], 1)))\n",
        "model_LSTM.add(Flatten())\n",
        "model_LSTM.add(Dense(128, activation = 'relu'))\n",
        "model_LSTM.add(Dropout(0.2))\n",
        "model_LSTM.add(Dense(64, activation = 'relu'))\n",
        "model_LSTM.add(Dropout(0.2))\n",
        "model_LSTM.add(Dense(1))\n",
        "model_LSTM.compile(loss = loss, metrics = metric, optimizer = optimizer)\n",
        "\n",
        "history = model_LSTM.fit(xtrain, ytrain, epochs = 100, validation_data =(xval , yval), callbacks = early_stopping)"
      ],
      "metadata": {
        "colab": {
          "base_uri": "https://localhost:8080/"
        },
        "id": "VZjsI3SfHDq1",
        "outputId": "e7d114b5-f09e-4f02-8188-d7304e4beefc"
      },
      "execution_count": 104,
      "outputs": [
        {
          "output_type": "stream",
          "name": "stdout",
          "text": [
            "Epoch 1/100\n",
            "146/146 [==============================] - 3s 8ms/step - loss: 0.0132 - root_mean_squared_error: 0.1092 - val_loss: 0.0044 - val_root_mean_squared_error: 0.0664\n",
            "Epoch 2/100\n",
            "146/146 [==============================] - 1s 5ms/step - loss: 0.0049 - root_mean_squared_error: 0.0697 - val_loss: 0.0021 - val_root_mean_squared_error: 0.0459\n",
            "Epoch 3/100\n",
            "146/146 [==============================] - 1s 5ms/step - loss: 0.0040 - root_mean_squared_error: 0.0633 - val_loss: 0.0023 - val_root_mean_squared_error: 0.0475\n",
            "Epoch 4/100\n",
            "146/146 [==============================] - 1s 5ms/step - loss: 0.0036 - root_mean_squared_error: 0.0600 - val_loss: 0.0021 - val_root_mean_squared_error: 0.0457\n",
            "Epoch 5/100\n",
            "146/146 [==============================] - 1s 5ms/step - loss: 0.0035 - root_mean_squared_error: 0.0591 - val_loss: 0.0018 - val_root_mean_squared_error: 0.0430\n",
            "Epoch 6/100\n",
            "146/146 [==============================] - 1s 6ms/step - loss: 0.0031 - root_mean_squared_error: 0.0559 - val_loss: 0.0018 - val_root_mean_squared_error: 0.0423\n",
            "Epoch 7/100\n",
            "146/146 [==============================] - 1s 5ms/step - loss: 0.0031 - root_mean_squared_error: 0.0559 - val_loss: 0.0018 - val_root_mean_squared_error: 0.0429\n",
            "Epoch 8/100\n",
            "146/146 [==============================] - 1s 5ms/step - loss: 0.0030 - root_mean_squared_error: 0.0548 - val_loss: 0.0016 - val_root_mean_squared_error: 0.0397\n",
            "Epoch 9/100\n",
            "146/146 [==============================] - 1s 6ms/step - loss: 0.0027 - root_mean_squared_error: 0.0518 - val_loss: 0.0020 - val_root_mean_squared_error: 0.0445\n",
            "Epoch 10/100\n",
            "146/146 [==============================] - 1s 5ms/step - loss: 0.0028 - root_mean_squared_error: 0.0525 - val_loss: 0.0018 - val_root_mean_squared_error: 0.0419\n",
            "Epoch 11/100\n",
            "146/146 [==============================] - 1s 6ms/step - loss: 0.0028 - root_mean_squared_error: 0.0525 - val_loss: 0.0015 - val_root_mean_squared_error: 0.0391\n",
            "Epoch 12/100\n",
            "146/146 [==============================] - 1s 5ms/step - loss: 0.0026 - root_mean_squared_error: 0.0509 - val_loss: 0.0015 - val_root_mean_squared_error: 0.0389\n",
            "Epoch 13/100\n",
            "146/146 [==============================] - 1s 5ms/step - loss: 0.0023 - root_mean_squared_error: 0.0482 - val_loss: 0.0013 - val_root_mean_squared_error: 0.0365\n",
            "Epoch 14/100\n",
            "146/146 [==============================] - 1s 6ms/step - loss: 0.0023 - root_mean_squared_error: 0.0477 - val_loss: 0.0012 - val_root_mean_squared_error: 0.0349\n",
            "Epoch 15/100\n",
            "146/146 [==============================] - 1s 5ms/step - loss: 0.0022 - root_mean_squared_error: 0.0470 - val_loss: 0.0014 - val_root_mean_squared_error: 0.0376\n",
            "Epoch 16/100\n",
            "146/146 [==============================] - 1s 6ms/step - loss: 0.0022 - root_mean_squared_error: 0.0467 - val_loss: 0.0013 - val_root_mean_squared_error: 0.0355\n",
            "Epoch 17/100\n",
            "146/146 [==============================] - 1s 5ms/step - loss: 0.0021 - root_mean_squared_error: 0.0461 - val_loss: 0.0013 - val_root_mean_squared_error: 0.0356\n",
            "Epoch 18/100\n",
            "146/146 [==============================] - 1s 5ms/step - loss: 0.0021 - root_mean_squared_error: 0.0463 - val_loss: 0.0013 - val_root_mean_squared_error: 0.0362\n",
            "Epoch 19/100\n",
            "146/146 [==============================] - 1s 5ms/step - loss: 0.0020 - root_mean_squared_error: 0.0446 - val_loss: 0.0012 - val_root_mean_squared_error: 0.0352\n",
            "Epoch 20/100\n",
            "146/146 [==============================] - 1s 5ms/step - loss: 0.0020 - root_mean_squared_error: 0.0449 - val_loss: 0.0015 - val_root_mean_squared_error: 0.0392\n",
            "Epoch 21/100\n",
            "146/146 [==============================] - 1s 5ms/step - loss: 0.0021 - root_mean_squared_error: 0.0454 - val_loss: 0.0012 - val_root_mean_squared_error: 0.0349\n",
            "Epoch 22/100\n",
            "146/146 [==============================] - 1s 5ms/step - loss: 0.0020 - root_mean_squared_error: 0.0445 - val_loss: 0.0012 - val_root_mean_squared_error: 0.0346\n",
            "Epoch 23/100\n",
            "146/146 [==============================] - 1s 5ms/step - loss: 0.0019 - root_mean_squared_error: 0.0438 - val_loss: 0.0013 - val_root_mean_squared_error: 0.0355\n",
            "Epoch 24/100\n",
            "146/146 [==============================] - 1s 5ms/step - loss: 0.0019 - root_mean_squared_error: 0.0433 - val_loss: 0.0012 - val_root_mean_squared_error: 0.0344\n",
            "Epoch 25/100\n",
            "146/146 [==============================] - 1s 5ms/step - loss: 0.0019 - root_mean_squared_error: 0.0435 - val_loss: 0.0014 - val_root_mean_squared_error: 0.0367\n",
            "Epoch 26/100\n",
            "146/146 [==============================] - 1s 5ms/step - loss: 0.0019 - root_mean_squared_error: 0.0435 - val_loss: 0.0013 - val_root_mean_squared_error: 0.0356\n",
            "Epoch 27/100\n",
            "146/146 [==============================] - 1s 5ms/step - loss: 0.0019 - root_mean_squared_error: 0.0433 - val_loss: 0.0011 - val_root_mean_squared_error: 0.0336\n",
            "Epoch 28/100\n",
            "146/146 [==============================] - 1s 5ms/step - loss: 0.0019 - root_mean_squared_error: 0.0431 - val_loss: 0.0013 - val_root_mean_squared_error: 0.0360\n",
            "Epoch 29/100\n",
            "146/146 [==============================] - 1s 5ms/step - loss: 0.0018 - root_mean_squared_error: 0.0430 - val_loss: 0.0011 - val_root_mean_squared_error: 0.0337\n",
            "Epoch 30/100\n",
            "146/146 [==============================] - 1s 5ms/step - loss: 0.0018 - root_mean_squared_error: 0.0426 - val_loss: 0.0011 - val_root_mean_squared_error: 0.0335\n",
            "Epoch 31/100\n",
            "146/146 [==============================] - 1s 5ms/step - loss: 0.0019 - root_mean_squared_error: 0.0438 - val_loss: 0.0011 - val_root_mean_squared_error: 0.0334\n",
            "Epoch 32/100\n",
            "146/146 [==============================] - 1s 5ms/step - loss: 0.0018 - root_mean_squared_error: 0.0425 - val_loss: 0.0011 - val_root_mean_squared_error: 0.0337\n",
            "Epoch 33/100\n",
            "146/146 [==============================] - 1s 5ms/step - loss: 0.0018 - root_mean_squared_error: 0.0428 - val_loss: 0.0012 - val_root_mean_squared_error: 0.0345\n",
            "Epoch 34/100\n",
            "146/146 [==============================] - 1s 5ms/step - loss: 0.0018 - root_mean_squared_error: 0.0428 - val_loss: 0.0012 - val_root_mean_squared_error: 0.0353\n",
            "Epoch 35/100\n",
            "146/146 [==============================] - 1s 5ms/step - loss: 0.0018 - root_mean_squared_error: 0.0421 - val_loss: 0.0013 - val_root_mean_squared_error: 0.0361\n",
            "Epoch 36/100\n",
            "146/146 [==============================] - 1s 5ms/step - loss: 0.0019 - root_mean_squared_error: 0.0431 - val_loss: 0.0013 - val_root_mean_squared_error: 0.0360\n",
            "Epoch 37/100\n",
            "146/146 [==============================] - 1s 6ms/step - loss: 0.0018 - root_mean_squared_error: 0.0422 - val_loss: 0.0013 - val_root_mean_squared_error: 0.0356\n",
            "Epoch 38/100\n",
            "146/146 [==============================] - 1s 5ms/step - loss: 0.0018 - root_mean_squared_error: 0.0429 - val_loss: 0.0014 - val_root_mean_squared_error: 0.0369\n",
            "Epoch 39/100\n",
            "146/146 [==============================] - 1s 5ms/step - loss: 0.0017 - root_mean_squared_error: 0.0416 - val_loss: 0.0013 - val_root_mean_squared_error: 0.0357\n",
            "Epoch 40/100\n",
            "146/146 [==============================] - 1s 5ms/step - loss: 0.0018 - root_mean_squared_error: 0.0425 - val_loss: 0.0013 - val_root_mean_squared_error: 0.0357\n",
            "Epoch 41/100\n",
            "146/146 [==============================] - 1s 5ms/step - loss: 0.0018 - root_mean_squared_error: 0.0419 - val_loss: 0.0013 - val_root_mean_squared_error: 0.0359\n",
            "Epoch 42/100\n",
            "146/146 [==============================] - 1s 5ms/step - loss: 0.0018 - root_mean_squared_error: 0.0419 - val_loss: 0.0012 - val_root_mean_squared_error: 0.0351\n",
            "Epoch 43/100\n",
            "146/146 [==============================] - 1s 5ms/step - loss: 0.0018 - root_mean_squared_error: 0.0425 - val_loss: 0.0012 - val_root_mean_squared_error: 0.0340\n",
            "Epoch 44/100\n",
            "146/146 [==============================] - 1s 5ms/step - loss: 0.0018 - root_mean_squared_error: 0.0419 - val_loss: 0.0012 - val_root_mean_squared_error: 0.0344\n"
          ]
        }
      ]
    },
    {
      "cell_type": "code",
      "source": [
        "plot_model_rmse_and_loss(history,\"Single Layer LSTM\")"
      ],
      "metadata": {
        "colab": {
          "base_uri": "https://localhost:8080/",
          "height": 356
        },
        "id": "T1Y7hEAeHJuZ",
        "outputId": "4b5f0cd0-4d2a-43e4-bcc4-8fd4e7b5a329"
      },
      "execution_count": 105,
      "outputs": [
        {
          "output_type": "display_data",
          "data": {
            "text/plain": [
              "<Figure size 1080x360 with 2 Axes>"
            ],
            "image/png": "[encoded data removed]"
          },
          "metadata": {
            "needs_background": "light"
          }
        }
      ]
    },
    {
      "cell_type": "code",
      "source": [
        "predictions = model_LSTM.predict(xtest)\n",
        "predictions = scaler.inverse_transform(predictions)\n",
        "singleLSTM_rmse = np.sqrt(np.mean(((predictions - ytest) ** 2)))\n",
        "print(f\"Root Mean Squared Error for Single Layer LSTM = {singleLSTM_rmse}\")"
      ],
      "metadata": {
        "colab": {
          "base_uri": "https://localhost:8080/"
        },
        "id": "tp1fAoiNH7ke",
        "outputId": "0a9f6e0a-b642-44e7-a456-539f28f2f2f9"
      },
      "execution_count": 106,
      "outputs": [
        {
          "output_type": "stream",
          "name": "stdout",
          "text": [
            "19/19 [==============================] - 0s 2ms/step\n",
            "Root Mean Squared Error for Single Layer LSTM = 63.82885176742538\n"
          ]
        }
      ]
    },
    {
      "cell_type": "markdown",
      "source": [
        "### Stacked LSTM"
      ],
      "metadata": {
        "id": "G0bDfdHnLJ6Q"
      }
    },
    {
      "cell_type": "code",
      "source": [
        "model_StackedLSTM = Sequential()\n",
        "model_StackedLSTM.add(LSTM(128, return_sequences=True, input_shape= (xtrain.shape[1], 1)))\n",
        "model_StackedLSTM.add(LSTM(64, return_sequences=False))\n",
        "model_StackedLSTM.add(Dense(64))\n",
        "model_StackedLSTM.add(Dropout(0.2))\n",
        "model_StackedLSTM.add(Dense(1))\n",
        "model_StackedLSTM.compile(loss = loss, metrics = metric, optimizer = optimizer)\n",
        "history = model_StackedLSTM.fit(xtrain, ytrain, epochs = 100, validation_data =(xval , yval), callbacks = early_stopping)"
      ],
      "metadata": {
        "colab": {
          "base_uri": "https://localhost:8080/"
        },
        "id": "f5MJp6ZMH-LH",
        "outputId": "cd843e19-016c-4581-d096-efe1a4bae532"
      },
      "execution_count": 107,
      "outputs": [
        {
          "output_type": "stream",
          "name": "stdout",
          "text": [
            "Epoch 1/100\n",
            "146/146 [==============================] - 5s 12ms/step - loss: 0.0250 - root_mean_squared_error: 0.1495 - val_loss: 0.0094 - val_root_mean_squared_error: 0.0970\n",
            "Epoch 2/100\n",
            "146/146 [==============================] - 1s 7ms/step - loss: 0.0083 - root_mean_squared_error: 0.0914 - val_loss: 0.0028 - val_root_mean_squared_error: 0.0526\n",
            "Epoch 3/100\n",
            "146/146 [==============================] - 1s 7ms/step - loss: 0.0040 - root_mean_squared_error: 0.0631 - val_loss: 0.0018 - val_root_mean_squared_error: 0.0422\n",
            "Epoch 4/100\n",
            "146/146 [==============================] - 1s 7ms/step - loss: 0.0035 - root_mean_squared_error: 0.0591 - val_loss: 0.0022 - val_root_mean_squared_error: 0.0468\n",
            "Epoch 5/100\n",
            "146/146 [==============================] - 1s 7ms/step - loss: 0.0032 - root_mean_squared_error: 0.0569 - val_loss: 0.0015 - val_root_mean_squared_error: 0.0391\n",
            "Epoch 6/100\n",
            "146/146 [==============================] - 1s 7ms/step - loss: 0.0029 - root_mean_squared_error: 0.0539 - val_loss: 0.0016 - val_root_mean_squared_error: 0.0400\n",
            "Epoch 7/100\n",
            "146/146 [==============================] - 1s 8ms/step - loss: 0.0027 - root_mean_squared_error: 0.0523 - val_loss: 0.0014 - val_root_mean_squared_error: 0.0378\n",
            "Epoch 8/100\n",
            "146/146 [==============================] - 1s 7ms/step - loss: 0.0027 - root_mean_squared_error: 0.0518 - val_loss: 0.0015 - val_root_mean_squared_error: 0.0382\n",
            "Epoch 9/100\n",
            "146/146 [==============================] - 1s 7ms/step - loss: 0.0026 - root_mean_squared_error: 0.0509 - val_loss: 0.0023 - val_root_mean_squared_error: 0.0484\n",
            "Epoch 10/100\n",
            "146/146 [==============================] - 1s 7ms/step - loss: 0.0024 - root_mean_squared_error: 0.0493 - val_loss: 0.0014 - val_root_mean_squared_error: 0.0381\n",
            "Epoch 11/100\n",
            "146/146 [==============================] - 1s 7ms/step - loss: 0.0024 - root_mean_squared_error: 0.0492 - val_loss: 0.0014 - val_root_mean_squared_error: 0.0368\n",
            "Epoch 12/100\n",
            "146/146 [==============================] - 1s 7ms/step - loss: 0.0024 - root_mean_squared_error: 0.0491 - val_loss: 0.0013 - val_root_mean_squared_error: 0.0366\n",
            "Epoch 13/100\n",
            "146/146 [==============================] - 1s 7ms/step - loss: 0.0024 - root_mean_squared_error: 0.0494 - val_loss: 0.0013 - val_root_mean_squared_error: 0.0357\n",
            "Epoch 14/100\n",
            "146/146 [==============================] - 1s 7ms/step - loss: 0.0023 - root_mean_squared_error: 0.0483 - val_loss: 0.0014 - val_root_mean_squared_error: 0.0369\n",
            "Epoch 15/100\n",
            "146/146 [==============================] - 1s 7ms/step - loss: 0.0022 - root_mean_squared_error: 0.0470 - val_loss: 0.0019 - val_root_mean_squared_error: 0.0436\n",
            "Epoch 16/100\n",
            "146/146 [==============================] - 1s 7ms/step - loss: 0.0022 - root_mean_squared_error: 0.0466 - val_loss: 0.0014 - val_root_mean_squared_error: 0.0375\n",
            "Epoch 17/100\n",
            "146/146 [==============================] - 1s 7ms/step - loss: 0.0021 - root_mean_squared_error: 0.0455 - val_loss: 0.0013 - val_root_mean_squared_error: 0.0366\n",
            "Epoch 18/100\n",
            "146/146 [==============================] - 1s 7ms/step - loss: 0.0022 - root_mean_squared_error: 0.0466 - val_loss: 0.0015 - val_root_mean_squared_error: 0.0382\n",
            "Epoch 19/100\n",
            "146/146 [==============================] - 1s 7ms/step - loss: 0.0020 - root_mean_squared_error: 0.0451 - val_loss: 0.0021 - val_root_mean_squared_error: 0.0462\n",
            "Epoch 20/100\n",
            "146/146 [==============================] - 1s 7ms/step - loss: 0.0020 - root_mean_squared_error: 0.0450 - val_loss: 0.0013 - val_root_mean_squared_error: 0.0364\n",
            "Epoch 21/100\n",
            "146/146 [==============================] - 1s 7ms/step - loss: 0.0020 - root_mean_squared_error: 0.0451 - val_loss: 0.0013 - val_root_mean_squared_error: 0.0365\n",
            "Epoch 22/100\n",
            "146/146 [==============================] - 1s 7ms/step - loss: 0.0019 - root_mean_squared_error: 0.0439 - val_loss: 0.0015 - val_root_mean_squared_error: 0.0393\n",
            "Epoch 23/100\n",
            "146/146 [==============================] - 1s 7ms/step - loss: 0.0019 - root_mean_squared_error: 0.0440 - val_loss: 0.0014 - val_root_mean_squared_error: 0.0376\n",
            "Epoch 24/100\n",
            "146/146 [==============================] - 1s 8ms/step - loss: 0.0018 - root_mean_squared_error: 0.0428 - val_loss: 0.0014 - val_root_mean_squared_error: 0.0376\n",
            "Epoch 25/100\n",
            "146/146 [==============================] - 1s 8ms/step - loss: 0.0018 - root_mean_squared_error: 0.0428 - val_loss: 0.0019 - val_root_mean_squared_error: 0.0438\n",
            "Epoch 26/100\n",
            "146/146 [==============================] - 1s 7ms/step - loss: 0.0018 - root_mean_squared_error: 0.0427 - val_loss: 0.0015 - val_root_mean_squared_error: 0.0384\n",
            "Epoch 27/100\n",
            "146/146 [==============================] - 1s 7ms/step - loss: 0.0018 - root_mean_squared_error: 0.0418 - val_loss: 0.0013 - val_root_mean_squared_error: 0.0363\n",
            "Epoch 28/100\n",
            "146/146 [==============================] - 1s 7ms/step - loss: 0.0017 - root_mean_squared_error: 0.0413 - val_loss: 0.0015 - val_root_mean_squared_error: 0.0386\n",
            "Epoch 29/100\n",
            "146/146 [==============================] - 1s 7ms/step - loss: 0.0017 - root_mean_squared_error: 0.0412 - val_loss: 0.0013 - val_root_mean_squared_error: 0.0356\n",
            "Epoch 30/100\n",
            "146/146 [==============================] - 1s 7ms/step - loss: 0.0018 - root_mean_squared_error: 0.0423 - val_loss: 0.0016 - val_root_mean_squared_error: 0.0401\n",
            "Epoch 31/100\n",
            "146/146 [==============================] - 1s 7ms/step - loss: 0.0016 - root_mean_squared_error: 0.0404 - val_loss: 0.0013 - val_root_mean_squared_error: 0.0362\n",
            "Epoch 32/100\n",
            "146/146 [==============================] - 1s 7ms/step - loss: 0.0017 - root_mean_squared_error: 0.0412 - val_loss: 0.0013 - val_root_mean_squared_error: 0.0356\n",
            "Epoch 33/100\n",
            "146/146 [==============================] - 1s 7ms/step - loss: 0.0016 - root_mean_squared_error: 0.0406 - val_loss: 0.0013 - val_root_mean_squared_error: 0.0355\n",
            "Epoch 34/100\n",
            "146/146 [==============================] - 1s 7ms/step - loss: 0.0016 - root_mean_squared_error: 0.0402 - val_loss: 0.0014 - val_root_mean_squared_error: 0.0372\n",
            "Epoch 35/100\n",
            "146/146 [==============================] - 1s 7ms/step - loss: 0.0016 - root_mean_squared_error: 0.0399 - val_loss: 0.0013 - val_root_mean_squared_error: 0.0364\n",
            "Epoch 36/100\n",
            "146/146 [==============================] - 1s 7ms/step - loss: 0.0016 - root_mean_squared_error: 0.0404 - val_loss: 0.0013 - val_root_mean_squared_error: 0.0355\n",
            "Epoch 37/100\n",
            "146/146 [==============================] - 1s 7ms/step - loss: 0.0016 - root_mean_squared_error: 0.0403 - val_loss: 0.0013 - val_root_mean_squared_error: 0.0366\n",
            "Epoch 38/100\n",
            "146/146 [==============================] - 1s 7ms/step - loss: 0.0016 - root_mean_squared_error: 0.0398 - val_loss: 0.0012 - val_root_mean_squared_error: 0.0348\n",
            "Epoch 39/100\n",
            "146/146 [==============================] - 1s 7ms/step - loss: 0.0016 - root_mean_squared_error: 0.0402 - val_loss: 0.0014 - val_root_mean_squared_error: 0.0380\n",
            "Epoch 40/100\n",
            "146/146 [==============================] - 1s 7ms/step - loss: 0.0016 - root_mean_squared_error: 0.0396 - val_loss: 0.0013 - val_root_mean_squared_error: 0.0355\n",
            "Epoch 41/100\n",
            "146/146 [==============================] - 1s 7ms/step - loss: 0.0015 - root_mean_squared_error: 0.0391 - val_loss: 0.0012 - val_root_mean_squared_error: 0.0348\n",
            "Epoch 42/100\n",
            "146/146 [==============================] - 1s 7ms/step - loss: 0.0016 - root_mean_squared_error: 0.0395 - val_loss: 0.0012 - val_root_mean_squared_error: 0.0348\n",
            "Epoch 43/100\n",
            "146/146 [==============================] - 1s 7ms/step - loss: 0.0015 - root_mean_squared_error: 0.0390 - val_loss: 0.0013 - val_root_mean_squared_error: 0.0359\n",
            "Epoch 44/100\n",
            "146/146 [==============================] - 1s 7ms/step - loss: 0.0016 - root_mean_squared_error: 0.0398 - val_loss: 0.0012 - val_root_mean_squared_error: 0.0346\n",
            "Epoch 45/100\n",
            "146/146 [==============================] - 1s 7ms/step - loss: 0.0015 - root_mean_squared_error: 0.0393 - val_loss: 0.0012 - val_root_mean_squared_error: 0.0346\n",
            "Epoch 46/100\n",
            "146/146 [==============================] - 1s 7ms/step - loss: 0.0015 - root_mean_squared_error: 0.0384 - val_loss: 0.0018 - val_root_mean_squared_error: 0.0425\n",
            "Epoch 47/100\n",
            "146/146 [==============================] - 1s 7ms/step - loss: 0.0015 - root_mean_squared_error: 0.0390 - val_loss: 0.0012 - val_root_mean_squared_error: 0.0345\n",
            "Epoch 48/100\n",
            "146/146 [==============================] - 1s 7ms/step - loss: 0.0015 - root_mean_squared_error: 0.0391 - val_loss: 0.0012 - val_root_mean_squared_error: 0.0346\n",
            "Epoch 49/100\n",
            "146/146 [==============================] - 1s 7ms/step - loss: 0.0016 - root_mean_squared_error: 0.0394 - val_loss: 0.0015 - val_root_mean_squared_error: 0.0383\n",
            "Epoch 50/100\n",
            "146/146 [==============================] - 1s 7ms/step - loss: 0.0015 - root_mean_squared_error: 0.0386 - val_loss: 0.0017 - val_root_mean_squared_error: 0.0408\n",
            "Epoch 51/100\n",
            "146/146 [==============================] - 1s 7ms/step - loss: 0.0015 - root_mean_squared_error: 0.0389 - val_loss: 0.0013 - val_root_mean_squared_error: 0.0355\n"
          ]
        }
      ]
    },
    {
      "cell_type": "code",
      "source": [
        "plot_model_rmse_and_loss(history,\"Stacked LSTM\")\n",
        "predictions = model_StackedLSTM.predict(xtest)\n",
        "predictions = scaler.inverse_transform(predictions)\n",
        "stackedLSTM_rmse = np.sqrt(np.mean(((predictions - ytest) ** 2)))\n",
        "print(f\"\\nRoot Mean Squared Error for Stacked LSTM = {stackedLSTM_rmse}\")"
      ],
      "metadata": {
        "colab": {
          "base_uri": "https://localhost:8080/",
          "height": 408
        },
        "id": "HxRKWK1DIHVq",
        "outputId": "d43a8e88-02e4-4060-df4b-fc18a8e353aa"
      },
      "execution_count": 108,
      "outputs": [
        {
          "output_type": "display_data",
          "data": {
            "text/plain": [
              "<Figure size 1080x360 with 2 Axes>"
            ],
            "image/png": "[encoded data removed]"
          },
          "metadata": {
            "needs_background": "light"
          }
        },
        {
          "output_type": "stream",
          "name": "stdout",
          "text": [
            "19/19 [==============================] - 1s 4ms/step\n",
            "\n",
            "Root Mean Squared Error for Stacked LSTM = 63.89239193904302\n"
          ]
        }
      ]
    },
    {
      "cell_type": "markdown",
      "source": [
        "### CNN"
      ],
      "metadata": {
        "id": "6dLjqG2FLPdo"
      }
    },
    {
      "cell_type": "code",
      "source": [
        "model_CNN = Sequential()\n",
        "model_CNN.add(Conv1D(filters = 48, kernel_size =2, padding = 'causal', activation = 'relu', input_shape = (xtrain.shape[1], 1)))\n",
        "model_CNN.add(Flatten())\n",
        "model_CNN.add(Dense(48, activation = 'relu'))\n",
        "model_CNN.add(Dropout(0.2))\n",
        "model_CNN.add(Dense(1))\n",
        "model_CNN.compile(loss = loss, metrics = metric, optimizer = optimizer)\n",
        "history = model_CNN.fit(xtrain, ytrain, epochs = 100, validation_data =(xval , yval), callbacks = early_stopping)"
      ],
      "metadata": {
        "colab": {
          "base_uri": "https://localhost:8080/"
        },
        "id": "mM2SY0buIKYI",
        "outputId": "9acdf8f1-9bb8-4882-dd08-4f1e9b8d3507"
      },
      "execution_count": 109,
      "outputs": [
        {
          "output_type": "stream",
          "name": "stdout",
          "text": [
            "Epoch 1/100\n",
            "146/146 [==============================] - 1s 4ms/step - loss: 0.0134 - root_mean_squared_error: 0.1099 - val_loss: 0.0022 - val_root_mean_squared_error: 0.0469\n",
            "Epoch 2/100\n",
            "146/146 [==============================] - 0s 3ms/step - loss: 0.0056 - root_mean_squared_error: 0.0747 - val_loss: 0.0013 - val_root_mean_squared_error: 0.0364\n",
            "Epoch 3/100\n",
            "146/146 [==============================] - 0s 3ms/step - loss: 0.0048 - root_mean_squared_error: 0.0694 - val_loss: 0.0020 - val_root_mean_squared_error: 0.0444\n",
            "Epoch 4/100\n",
            "146/146 [==============================] - 0s 3ms/step - loss: 0.0039 - root_mean_squared_error: 0.0628 - val_loss: 0.0012 - val_root_mean_squared_error: 0.0344\n",
            "Epoch 5/100\n",
            "146/146 [==============================] - 0s 3ms/step - loss: 0.0035 - root_mean_squared_error: 0.0588 - val_loss: 0.0012 - val_root_mean_squared_error: 0.0341\n",
            "Epoch 6/100\n",
            "146/146 [==============================] - 1s 3ms/step - loss: 0.0033 - root_mean_squared_error: 0.0571 - val_loss: 0.0015 - val_root_mean_squared_error: 0.0393\n",
            "Epoch 7/100\n",
            "146/146 [==============================] - 0s 3ms/step - loss: 0.0030 - root_mean_squared_error: 0.0551 - val_loss: 0.0011 - val_root_mean_squared_error: 0.0338\n",
            "Epoch 8/100\n",
            "146/146 [==============================] - 0s 3ms/step - loss: 0.0028 - root_mean_squared_error: 0.0534 - val_loss: 0.0011 - val_root_mean_squared_error: 0.0325\n",
            "Epoch 9/100\n",
            "146/146 [==============================] - 0s 3ms/step - loss: 0.0025 - root_mean_squared_error: 0.0505 - val_loss: 0.0011 - val_root_mean_squared_error: 0.0332\n",
            "Epoch 10/100\n",
            "146/146 [==============================] - 0s 3ms/step - loss: 0.0027 - root_mean_squared_error: 0.0517 - val_loss: 9.2772e-04 - val_root_mean_squared_error: 0.0305\n",
            "Epoch 11/100\n",
            "146/146 [==============================] - 0s 3ms/step - loss: 0.0025 - root_mean_squared_error: 0.0504 - val_loss: 9.5053e-04 - val_root_mean_squared_error: 0.0308\n",
            "Epoch 12/100\n",
            "146/146 [==============================] - 1s 3ms/step - loss: 0.0024 - root_mean_squared_error: 0.0492 - val_loss: 0.0015 - val_root_mean_squared_error: 0.0381\n",
            "Epoch 13/100\n",
            "146/146 [==============================] - 0s 3ms/step - loss: 0.0024 - root_mean_squared_error: 0.0492 - val_loss: 9.0108e-04 - val_root_mean_squared_error: 0.0300\n",
            "Epoch 14/100\n",
            "146/146 [==============================] - 0s 3ms/step - loss: 0.0023 - root_mean_squared_error: 0.0479 - val_loss: 9.1208e-04 - val_root_mean_squared_error: 0.0302\n",
            "Epoch 15/100\n",
            "146/146 [==============================] - 1s 3ms/step - loss: 0.0023 - root_mean_squared_error: 0.0477 - val_loss: 0.0010 - val_root_mean_squared_error: 0.0318\n",
            "Epoch 16/100\n",
            "146/146 [==============================] - 0s 3ms/step - loss: 0.0023 - root_mean_squared_error: 0.0481 - val_loss: 9.0229e-04 - val_root_mean_squared_error: 0.0300\n",
            "Epoch 17/100\n",
            "146/146 [==============================] - 0s 3ms/step - loss: 0.0020 - root_mean_squared_error: 0.0449 - val_loss: 9.6946e-04 - val_root_mean_squared_error: 0.0311\n",
            "Epoch 18/100\n",
            "146/146 [==============================] - 0s 3ms/step - loss: 0.0022 - root_mean_squared_error: 0.0464 - val_loss: 9.1948e-04 - val_root_mean_squared_error: 0.0303\n",
            "Epoch 19/100\n",
            "146/146 [==============================] - 1s 4ms/step - loss: 0.0021 - root_mean_squared_error: 0.0463 - val_loss: 0.0010 - val_root_mean_squared_error: 0.0323\n",
            "Epoch 20/100\n",
            "146/146 [==============================] - 1s 4ms/step - loss: 0.0020 - root_mean_squared_error: 0.0447 - val_loss: 9.3552e-04 - val_root_mean_squared_error: 0.0306\n",
            "Epoch 21/100\n",
            "146/146 [==============================] - 0s 3ms/step - loss: 0.0021 - root_mean_squared_error: 0.0461 - val_loss: 9.1602e-04 - val_root_mean_squared_error: 0.0303\n",
            "Epoch 22/100\n",
            "146/146 [==============================] - 0s 3ms/step - loss: 0.0020 - root_mean_squared_error: 0.0450 - val_loss: 9.1528e-04 - val_root_mean_squared_error: 0.0303\n",
            "Epoch 23/100\n",
            "146/146 [==============================] - 0s 3ms/step - loss: 0.0021 - root_mean_squared_error: 0.0455 - val_loss: 0.0011 - val_root_mean_squared_error: 0.0335\n",
            "Epoch 24/100\n",
            "146/146 [==============================] - 0s 3ms/step - loss: 0.0021 - root_mean_squared_error: 0.0461 - val_loss: 8.6922e-04 - val_root_mean_squared_error: 0.0295\n",
            "Epoch 25/100\n",
            "146/146 [==============================] - 0s 3ms/step - loss: 0.0020 - root_mean_squared_error: 0.0451 - val_loss: 9.0611e-04 - val_root_mean_squared_error: 0.0301\n"
          ]
        }
      ]
    },
    {
      "cell_type": "code",
      "source": [
        "plot_model_rmse_and_loss(history,\"CNN 1D\")\n",
        "predictions = model_CNN.predict(xtest)\n",
        "predictions = scaler.inverse_transform(predictions)\n",
        "CNN_rmse = np.sqrt(np.mean(((predictions - ytest) ** 2)))\n",
        "print(f\"\\nRoot Mean Squared Error for CNN 1D = {CNN_rmse}\")"
      ],
      "metadata": {
        "colab": {
          "base_uri": "https://localhost:8080/",
          "height": 408
        },
        "id": "_pjE_PM6IO2J",
        "outputId": "08f971a1-4fc0-4dd7-fb5b-a88d75b865c3"
      },
      "execution_count": 110,
      "outputs": [
        {
          "output_type": "display_data",
          "data": {
            "text/plain": [
              "<Figure size 1080x360 with 2 Axes>"
            ],
            "image/png": "[encoded data removed]"
          },
          "metadata": {
            "needs_background": "light"
          }
        },
        {
          "output_type": "stream",
          "name": "stdout",
          "text": [
            "19/19 [==============================] - 0s 2ms/step\n",
            "\n",
            "Root Mean Squared Error for CNN 1D = 63.72521960579247\n"
          ]
        }
      ]
    },
    {
      "cell_type": "markdown",
      "source": [
        "### CNN-LSTM"
      ],
      "metadata": {
        "id": "EEMh6QncLVIw"
      }
    },
    {
      "cell_type": "code",
      "source": [
        "model_CNN_LSTM = Sequential()\n",
        "model_CNN_LSTM.add(Conv1D(filters = 100, kernel_size =2, padding = 'causal', activation = 'relu', input_shape = (xtrain.shape[1], 1)))\n",
        "model_CNN_LSTM.add(LSTM(100, return_sequences = True))\n",
        "model_CNN_LSTM.add(Flatten())\n",
        "model_CNN_LSTM.add(Dense(100, activation = 'relu'))\n",
        "model_CNN_LSTM.add(Dropout(0.2))\n",
        "model_CNN_LSTM.add(Dense(1))\n",
        "model_CNN_LSTM.compile(loss = loss, metrics = metric, optimizer = optimizer)\n",
        "history = model_CNN_LSTM.fit(xtrain, ytrain, epochs = 100, validation_data =(xval , yval), callbacks = early_stopping)"
      ],
      "metadata": {
        "colab": {
          "base_uri": "https://localhost:8080/"
        },
        "id": "IcLSmKkxIRC4",
        "outputId": "f725faa9-d0dc-431e-f36c-df36d32e0569"
      },
      "execution_count": 111,
      "outputs": [
        {
          "output_type": "stream",
          "name": "stdout",
          "text": [
            "Epoch 1/100\n",
            "146/146 [==============================] - 3s 8ms/step - loss: 0.0266 - root_mean_squared_error: 0.1540 - val_loss: 0.0084 - val_root_mean_squared_error: 0.0914\n",
            "Epoch 2/100\n",
            "146/146 [==============================] - 1s 6ms/step - loss: 0.0095 - root_mean_squared_error: 0.0974 - val_loss: 0.0041 - val_root_mean_squared_error: 0.0640\n",
            "Epoch 3/100\n",
            "146/146 [==============================] - 1s 6ms/step - loss: 0.0069 - root_mean_squared_error: 0.0833 - val_loss: 0.0024 - val_root_mean_squared_error: 0.0489\n",
            "Epoch 4/100\n",
            "146/146 [==============================] - 1s 5ms/step - loss: 0.0053 - root_mean_squared_error: 0.0730 - val_loss: 0.0018 - val_root_mean_squared_error: 0.0419\n",
            "Epoch 5/100\n",
            "146/146 [==============================] - 1s 6ms/step - loss: 0.0044 - root_mean_squared_error: 0.0660 - val_loss: 0.0025 - val_root_mean_squared_error: 0.0499\n",
            "Epoch 6/100\n",
            "146/146 [==============================] - 1s 5ms/step - loss: 0.0038 - root_mean_squared_error: 0.0615 - val_loss: 0.0015 - val_root_mean_squared_error: 0.0382\n",
            "Epoch 7/100\n",
            "146/146 [==============================] - 1s 6ms/step - loss: 0.0036 - root_mean_squared_error: 0.0600 - val_loss: 0.0014 - val_root_mean_squared_error: 0.0380\n",
            "Epoch 8/100\n",
            "146/146 [==============================] - 1s 5ms/step - loss: 0.0031 - root_mean_squared_error: 0.0561 - val_loss: 0.0013 - val_root_mean_squared_error: 0.0365\n",
            "Epoch 9/100\n",
            "146/146 [==============================] - 1s 6ms/step - loss: 0.0031 - root_mean_squared_error: 0.0559 - val_loss: 0.0026 - val_root_mean_squared_error: 0.0511\n",
            "Epoch 10/100\n",
            "146/146 [==============================] - 1s 5ms/step - loss: 0.0029 - root_mean_squared_error: 0.0540 - val_loss: 0.0011 - val_root_mean_squared_error: 0.0324\n",
            "Epoch 11/100\n",
            "146/146 [==============================] - 1s 5ms/step - loss: 0.0029 - root_mean_squared_error: 0.0542 - val_loss: 0.0013 - val_root_mean_squared_error: 0.0356\n",
            "Epoch 12/100\n",
            "146/146 [==============================] - 1s 6ms/step - loss: 0.0026 - root_mean_squared_error: 0.0509 - val_loss: 0.0016 - val_root_mean_squared_error: 0.0398\n",
            "Epoch 13/100\n",
            "146/146 [==============================] - 1s 5ms/step - loss: 0.0024 - root_mean_squared_error: 0.0489 - val_loss: 0.0010 - val_root_mean_squared_error: 0.0319\n",
            "Epoch 14/100\n",
            "146/146 [==============================] - 1s 5ms/step - loss: 0.0023 - root_mean_squared_error: 0.0481 - val_loss: 0.0010 - val_root_mean_squared_error: 0.0321\n",
            "Epoch 15/100\n",
            "146/146 [==============================] - 1s 6ms/step - loss: 0.0023 - root_mean_squared_error: 0.0478 - val_loss: 0.0010 - val_root_mean_squared_error: 0.0317\n",
            "Epoch 16/100\n",
            "146/146 [==============================] - 1s 5ms/step - loss: 0.0023 - root_mean_squared_error: 0.0482 - val_loss: 0.0015 - val_root_mean_squared_error: 0.0389\n",
            "Epoch 17/100\n",
            "146/146 [==============================] - 1s 6ms/step - loss: 0.0021 - root_mean_squared_error: 0.0457 - val_loss: 0.0015 - val_root_mean_squared_error: 0.0383\n",
            "Epoch 18/100\n",
            "146/146 [==============================] - 1s 6ms/step - loss: 0.0020 - root_mean_squared_error: 0.0453 - val_loss: 0.0011 - val_root_mean_squared_error: 0.0338\n",
            "Epoch 19/100\n",
            "146/146 [==============================] - 1s 6ms/step - loss: 0.0020 - root_mean_squared_error: 0.0444 - val_loss: 0.0018 - val_root_mean_squared_error: 0.0422\n",
            "Epoch 20/100\n",
            "146/146 [==============================] - 1s 6ms/step - loss: 0.0020 - root_mean_squared_error: 0.0451 - val_loss: 0.0010 - val_root_mean_squared_error: 0.0318\n",
            "Epoch 21/100\n",
            "146/146 [==============================] - 1s 6ms/step - loss: 0.0019 - root_mean_squared_error: 0.0439 - val_loss: 0.0010 - val_root_mean_squared_error: 0.0320\n",
            "Epoch 22/100\n",
            "146/146 [==============================] - 1s 6ms/step - loss: 0.0018 - root_mean_squared_error: 0.0428 - val_loss: 0.0011 - val_root_mean_squared_error: 0.0328\n",
            "Epoch 23/100\n",
            "146/146 [==============================] - 1s 6ms/step - loss: 0.0017 - root_mean_squared_error: 0.0418 - val_loss: 0.0010 - val_root_mean_squared_error: 0.0320\n",
            "Epoch 24/100\n",
            "146/146 [==============================] - 1s 5ms/step - loss: 0.0017 - root_mean_squared_error: 0.0406 - val_loss: 0.0010 - val_root_mean_squared_error: 0.0322\n",
            "Epoch 25/100\n",
            "146/146 [==============================] - 1s 6ms/step - loss: 0.0016 - root_mean_squared_error: 0.0405 - val_loss: 0.0012 - val_root_mean_squared_error: 0.0342\n",
            "Epoch 26/100\n",
            "146/146 [==============================] - 1s 5ms/step - loss: 0.0017 - root_mean_squared_error: 0.0409 - val_loss: 0.0010 - val_root_mean_squared_error: 0.0320\n",
            "Epoch 27/100\n",
            "146/146 [==============================] - 1s 6ms/step - loss: 0.0017 - root_mean_squared_error: 0.0408 - val_loss: 9.1405e-04 - val_root_mean_squared_error: 0.0302\n",
            "Epoch 28/100\n",
            "146/146 [==============================] - 1s 6ms/step - loss: 0.0016 - root_mean_squared_error: 0.0405 - val_loss: 9.2482e-04 - val_root_mean_squared_error: 0.0304\n",
            "Epoch 29/100\n",
            "146/146 [==============================] - 1s 6ms/step - loss: 0.0017 - root_mean_squared_error: 0.0406 - val_loss: 9.1331e-04 - val_root_mean_squared_error: 0.0302\n",
            "Epoch 30/100\n",
            "146/146 [==============================] - 1s 5ms/step - loss: 0.0016 - root_mean_squared_error: 0.0399 - val_loss: 0.0011 - val_root_mean_squared_error: 0.0325\n",
            "Epoch 31/100\n",
            "146/146 [==============================] - 1s 5ms/step - loss: 0.0015 - root_mean_squared_error: 0.0391 - val_loss: 9.8339e-04 - val_root_mean_squared_error: 0.0314\n",
            "Epoch 32/100\n",
            "146/146 [==============================] - 1s 6ms/step - loss: 0.0015 - root_mean_squared_error: 0.0394 - val_loss: 0.0012 - val_root_mean_squared_error: 0.0352\n",
            "Epoch 33/100\n",
            "146/146 [==============================] - 1s 6ms/step - loss: 0.0015 - root_mean_squared_error: 0.0392 - val_loss: 9.1725e-04 - val_root_mean_squared_error: 0.0303\n",
            "Epoch 34/100\n",
            "146/146 [==============================] - 1s 5ms/step - loss: 0.0015 - root_mean_squared_error: 0.0392 - val_loss: 8.7654e-04 - val_root_mean_squared_error: 0.0296\n",
            "Epoch 35/100\n",
            "146/146 [==============================] - 1s 5ms/step - loss: 0.0015 - root_mean_squared_error: 0.0386 - val_loss: 9.1660e-04 - val_root_mean_squared_error: 0.0303\n",
            "Epoch 36/100\n",
            "146/146 [==============================] - 1s 5ms/step - loss: 0.0015 - root_mean_squared_error: 0.0386 - val_loss: 8.8321e-04 - val_root_mean_squared_error: 0.0297\n",
            "Epoch 37/100\n",
            "146/146 [==============================] - 1s 5ms/step - loss: 0.0015 - root_mean_squared_error: 0.0390 - val_loss: 8.8984e-04 - val_root_mean_squared_error: 0.0298\n",
            "Epoch 38/100\n",
            "146/146 [==============================] - 1s 5ms/step - loss: 0.0015 - root_mean_squared_error: 0.0382 - val_loss: 9.1323e-04 - val_root_mean_squared_error: 0.0302\n",
            "Epoch 39/100\n",
            "146/146 [==============================] - 1s 6ms/step - loss: 0.0014 - root_mean_squared_error: 0.0377 - val_loss: 8.7877e-04 - val_root_mean_squared_error: 0.0296\n",
            "Epoch 40/100\n",
            "146/146 [==============================] - 1s 6ms/step - loss: 0.0014 - root_mean_squared_error: 0.0378 - val_loss: 8.7880e-04 - val_root_mean_squared_error: 0.0296\n",
            "Epoch 41/100\n",
            "146/146 [==============================] - 1s 6ms/step - loss: 0.0013 - root_mean_squared_error: 0.0365 - val_loss: 9.3308e-04 - val_root_mean_squared_error: 0.0305\n",
            "Epoch 42/100\n",
            "146/146 [==============================] - 1s 6ms/step - loss: 0.0015 - root_mean_squared_error: 0.0384 - val_loss: 8.7090e-04 - val_root_mean_squared_error: 0.0295\n",
            "Epoch 43/100\n",
            "146/146 [==============================] - 1s 5ms/step - loss: 0.0014 - root_mean_squared_error: 0.0371 - val_loss: 8.8195e-04 - val_root_mean_squared_error: 0.0297\n",
            "Epoch 44/100\n",
            "146/146 [==============================] - 1s 6ms/step - loss: 0.0015 - root_mean_squared_error: 0.0381 - val_loss: 9.9795e-04 - val_root_mean_squared_error: 0.0316\n",
            "Epoch 45/100\n",
            "146/146 [==============================] - 1s 5ms/step - loss: 0.0014 - root_mean_squared_error: 0.0374 - val_loss: 9.4336e-04 - val_root_mean_squared_error: 0.0307\n",
            "Epoch 46/100\n",
            "146/146 [==============================] - 1s 5ms/step - loss: 0.0014 - root_mean_squared_error: 0.0372 - val_loss: 9.7756e-04 - val_root_mean_squared_error: 0.0313\n"
          ]
        }
      ]
    },
    {
      "cell_type": "code",
      "source": [
        "plot_model_rmse_and_loss(history,\"CNN-LSTM\")\n",
        "predictions = model_CNN_LSTM.predict(xtest)\n",
        "predictions = scaler.inverse_transform(predictions)\n",
        "CNN_LSTM_rmse = np.sqrt(np.mean(((predictions - ytest) ** 2)))"
      ],
      "metadata": {
        "colab": {
          "base_uri": "https://localhost:8080/",
          "height": 373
        },
        "id": "kUmJRS-oITHc",
        "outputId": "00e895e2-3d60-4e48-af3d-79ee63fc8b45"
      },
      "execution_count": 112,
      "outputs": [
        {
          "output_type": "display_data",
          "data": {
            "text/plain": [
              "<Figure size 1080x360 with 2 Axes>"
            ],
            "image/png": "[encoded data removed]"
          },
          "metadata": {
            "needs_background": "light"
          }
        },
        {
          "output_type": "stream",
          "name": "stdout",
          "text": [
            "19/19 [==============================] - 0s 2ms/step\n"
          ]
        }
      ]
    },
    {
      "cell_type": "code",
      "source": [
        "print(f\"\\nRoot Mean Squared Error for CNN-LSTM = {CNN_LSTM_rmse}\")"
      ],
      "metadata": {
        "colab": {
          "base_uri": "https://localhost:8080/"
        },
        "id": "gQsA_9QXIV01",
        "outputId": "2a8f8bd8-a9be-4b16-f2bb-756dddeb7c47"
      },
      "execution_count": 113,
      "outputs": [
        {
          "output_type": "stream",
          "name": "stdout",
          "text": [
            "\n",
            "Root Mean Squared Error for CNN-LSTM = 62.66498994487279\n"
          ]
        }
      ]
    },
    {
      "cell_type": "markdown",
      "source": [
        "### Final Result"
      ],
      "metadata": {
        "id": "VhWiWd0ZLbMQ"
      }
    },
    {
      "cell_type": "code",
      "source": [
        "print(f\"Root Mean Squared Error for SimpleRNN = {simplernn_rmse}\")\n",
        "print(f\"Root Mean Squared Error for Single Layer LSTM = {singleLSTM_rmse}\")\n",
        "print(f\"Root Mean Squared Error for Stacked LSTM = {stackedLSTM_rmse}\")\n",
        "print(f\"Root Mean Squared Error for CNN 1D = {CNN_rmse}\")\n",
        "print(f\"Root Mean Squared Error for CNN-LSTM = {CNN_LSTM_rmse}\")"
      ],
      "metadata": {
        "colab": {
          "base_uri": "https://localhost:8080/"
        },
        "id": "OLT4CIKeIYKs",
        "outputId": "b991ebc2-7caf-4177-a289-6ab8142bb1b7"
      },
      "execution_count": 114,
      "outputs": [
        {
          "output_type": "stream",
          "name": "stdout",
          "text": [
            "Root Mean Squared Error for SimpleRNN = 61.678677475775366\n",
            "Root Mean Squared Error for Single Layer LSTM = 63.82885176742538\n",
            "Root Mean Squared Error for Stacked LSTM = 63.89239193904302\n",
            "Root Mean Squared Error for CNN 1D = 63.72521960579247\n",
            "Root Mean Squared Error for CNN-LSTM = 62.66498994487279\n"
          ]
        }
      ]
    }
  ]
}